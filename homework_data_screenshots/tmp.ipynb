{
 "cells": [
  {
   "cell_type": "code",
   "execution_count": null,
   "metadata": {},
   "outputs": [],
   "source": [
    "import nltk\n",
    "from mrjob.job import MRJob\n",
    "from mrjob.step import MRStep\n",
    "from nltk.corpus import stopwords # импорт проходит успешна, а загрузка стоп-слов что бы я не пробовал не проходит\n",
    "from nltk import word_tokenize # импорт проходит успешна, а загрузка стоп-слов что бы я не пробовал не проходит\n",
    "import re\n",
    "from nltk.stem.snowball import SnowballStemmer\n",
    "\n",
    "class Top_bigram(MRJob):\n",
    "    def mapper_1_init(self):\n",
    "        nltk.download('stopwords')\n",
    "        nltk.download('punkt')\n",
    "        self.stopwords = set(stopwords.words(\"english\")) # не работает на хадупе ни в какую...\n",
    "        self.stemmer = SnowballStemmer(\"english\")\n",
    "        self.tokenizer = word_tokenize\n",
    "        pass\n",
    "    def mapper_1(self, _, line):\n",
    "        icp = [x for x in line.split('\"') if x != \"\" and x != \" \"]\n",
    "        if len(icp) == 3:\n",
    "            phrase = icp[2]\n",
    "            cleaned_line = re.sub(r\"[^\\w\\s]\", \"\", phrase.lower())\n",
    "            words = [x for x in self.tokenizer(cleaned_line) if x not in self.stopwords]\n",
    "            bigrams = [\n",
    "                f\"{words[i]} {words[i+1]}\" for i in range(len(words) - 1)\n",
    "            ]\n",
    "            for bigram in bigrams:\n",
    "                yield bigram, 1\n",
    "        else:\n",
    "            pass\n",
    "\n",
    "    def reducer_1(self, bigram, counts):\n",
    "        yield None, (bigram, sum(counts))\n",
    "\n",
    "    def reducer_2(self, _, bigram_counts):\n",
    "        sorted_bigrams = sorted(\n",
    "            bigram_counts, key=lambda x: x[1], reverse=True\n",
    "        )[:20]\n",
    "        for bigram, count in sorted_bigrams:\n",
    "            yield bigram, count\n",
    "\n",
    "    def steps(self):\n",
    "        return [\n",
    "            MRStep(mapper_init=self.mapper_1_init, mapper=self.mapper_1, reducer=self.reducer_1),\n",
    "            MRStep(reducer=self.reducer_2),\n",
    "        ]\n",
    "\n",
    "if __name__ == \"__main__\":\n",
    "    Top_bigram().run()"
   ]
  }
 ],
 "metadata": {
  "kernelspec": {
   "display_name": "openmmlab",
   "language": "python",
   "name": "python3"
  },
  "language_info": {
   "name": "python",
   "version": "3.8.18"
  }
 },
 "nbformat": 4,
 "nbformat_minor": 2
}

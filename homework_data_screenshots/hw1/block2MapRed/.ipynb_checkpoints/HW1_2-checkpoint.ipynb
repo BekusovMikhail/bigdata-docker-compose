{
 "cells": [
  {
   "cell_type": "code",
   "execution_count": 1,
   "id": "c4c24276-470e-46c3-ae4c-3359281a7130",
   "metadata": {},
   "outputs": [],
   "source": [
    "# !hadoop fs -put ./SW_EpisodeVI.txt /data/"
   ]
  },
  {
   "cell_type": "code",
   "execution_count": 2,
   "id": "752b0782-5d85-40ff-9fc6-0129c214a060",
   "metadata": {},
   "outputs": [
    {
     "name": "stdout",
     "output_type": "stream",
     "text": [
      "Found 4 items\n",
      "-rw-r--r--   3 root supergroup     119620 2023-11-17 22:21 /data/NHANES_age_prediction.csv\n",
      "-rw-r--r--   3 root supergroup      78278 2023-11-17 23:40 /data/SW_EpisodeIV.txt\n",
      "-rw-r--r--   3 root supergroup      55487 2023-11-17 23:40 /data/SW_EpisodeV.txt\n",
      "-rw-r--r--   3 root supergroup      48176 2023-11-17 23:40 /data/SW_EpisodeVI.txt\n"
     ]
    }
   ],
   "source": [
    "!hadoop fs -ls /data/"
   ]
  },
  {
   "cell_type": "code",
   "execution_count": 3,
   "id": "982b55f1-a11b-49e9-9c1f-addd7f5fe26d",
   "metadata": {},
   "outputs": [
    {
     "name": "stdout",
     "output_type": "stream",
     "text": [
      "Requirement already satisfied: mrjob in /usr/local/lib/python3.10/dist-packages (0.7.4)\n",
      "Requirement already satisfied: PyYAML>=3.10 in /usr/local/lib/python3.10/dist-packages (from mrjob) (6.0.1)\n",
      "\u001b[33mWARNING: Running pip as the 'root' user can result in broken permissions and conflicting behaviour with the system package manager. It is recommended to use a virtual environment instead: https://pip.pypa.io/warnings/venv\u001b[0m\u001b[33m\n",
      "\u001b[0m"
     ]
    }
   ],
   "source": [
    "!pip install mrjob"
   ]
  },
  {
   "cell_type": "code",
   "execution_count": 4,
   "id": "f9a0128b-dad4-45c3-9a4f-1ce8cc3ee518",
   "metadata": {},
   "outputs": [
    {
     "name": "stderr",
     "output_type": "stream",
     "text": [
      "usage: ipykernel_launcher.py [options] [input files]\n",
      "ipykernel_launcher.py: error: unrecognized arguments: -f\n"
     ]
    },
    {
     "ename": "SystemExit",
     "evalue": "2",
     "output_type": "error",
     "traceback": [
      "An exception has occurred, use %tb to see the full traceback.\n",
      "\u001b[0;31mSystemExit\u001b[0m\u001b[0;31m:\u001b[0m 2\n"
     ]
    },
    {
     "name": "stderr",
     "output_type": "stream",
     "text": [
      "/usr/local/lib/python3.10/dist-packages/IPython/core/interactiveshell.py:3556: UserWarning: To exit: use 'exit', 'quit', or Ctrl-D.\n",
      "  warn(\"To exit: use 'exit', 'quit', or Ctrl-D.\", stacklevel=1)\n"
     ]
    }
   ],
   "source": [
    "from mrjob.job import MRJob\n",
    "from mrjob.step import MRStep\n",
    "\n",
    "class CombinedMapReduce(MRJob):\n",
    "\n",
    "    def mapper_get_character_count(self, _, line):\n",
    "        episode_id, character, dialogue = line.split('\\t')\n",
    "        yield (episode_id, character), 1\n",
    "\n",
    "    def reducer_get_character_count(self, key, values):\n",
    "        total_count = sum(values)\n",
    "        yield key, total_count\n",
    "\n",
    "    def mapper_get_top_characters(self, key, value):\n",
    "        character, count = key\n",
    "        yield None, (count, character)\n",
    "\n",
    "    def reducer_init_get_top_characters(self):\n",
    "        self.top_characters = []\n",
    "\n",
    "    def reducer_get_top_characters(self, _, values):\n",
    "        for count, character in values:\n",
    "            self.top_characters.append((count, character))\n",
    "            self.top_characters = sorted(self.top_characters, reverse=True)[:20]\n",
    "\n",
    "    def reducer_final_get_top_characters(self):\n",
    "        for count, character in self.top_characters:\n",
    "            yield character, count\n",
    "\n",
    "    def steps(self):\n",
    "        return [\n",
    "            MRStep(mapper=self.mapper_get_character_count, reducer=self.reducer_get_character_count),\n",
    "            MRStep(mapper=self.mapper_get_top_characters, reducer_init=self.reducer_init_get_top_characters, reducer=self.reducer_get_top_characters, reducer_final=self.reducer_final_get_top_characters)\n",
    "        ]\n",
    "\n",
    "CombinedMapReduce.run()"
   ]
  },
  {
   "cell_type": "code",
   "execution_count": 5,
   "id": "c6a6bdbc-f7a9-4c6f-9d29-5a2f29c58ee2",
   "metadata": {},
   "outputs": [
    {
     "ename": "OSError",
     "evalue": "source code not available",
     "output_type": "error",
     "traceback": [
      "\u001b[0;31m---------------------------------------------------------------------------\u001b[0m",
      "\u001b[0;31mOSError\u001b[0m                                   Traceback (most recent call last)",
      "Cell \u001b[0;32mIn[5], line 47\u001b[0m\n\u001b[1;32m     45\u001b[0m job\u001b[38;5;241m.\u001b[39msandbox(stdin\u001b[38;5;241m=\u001b[39minput_lines)\n\u001b[1;32m     46\u001b[0m output \u001b[38;5;241m=\u001b[39m []\n\u001b[0;32m---> 47\u001b[0m \u001b[38;5;28;01mwith\u001b[39;00m \u001b[43mjob\u001b[49m\u001b[38;5;241;43m.\u001b[39;49m\u001b[43mmake_runner\u001b[49m\u001b[43m(\u001b[49m\u001b[43m)\u001b[49m \u001b[38;5;28;01mas\u001b[39;00m runner:\n\u001b[1;32m     48\u001b[0m     runner\u001b[38;5;241m.\u001b[39mrun()\n\u001b[1;32m     49\u001b[0m     \u001b[38;5;28;01mfor\u001b[39;00m line \u001b[38;5;129;01min\u001b[39;00m runner\u001b[38;5;241m.\u001b[39mstream_output():\n",
      "File \u001b[0;32m/usr/local/lib/python3.10/dist-packages/mrjob/job.py:704\u001b[0m, in \u001b[0;36mMRJob.make_runner\u001b[0;34m(self)\u001b[0m\n\u001b[1;32m    699\u001b[0m         \u001b[38;5;28;01mraise\u001b[39;00m UsageError(\u001b[38;5;124m\"\u001b[39m\u001b[38;5;124mmake_runner() was called with \u001b[39m\u001b[38;5;132;01m%s\u001b[39;00m\u001b[38;5;124m. This\u001b[39m\u001b[38;5;124m\"\u001b[39m\n\u001b[1;32m    700\u001b[0m                          \u001b[38;5;124m\"\u001b[39m\u001b[38;5;124m probably means you tried to use it from\u001b[39m\u001b[38;5;124m\"\u001b[39m\n\u001b[1;32m    701\u001b[0m                          \u001b[38;5;124m\"\u001b[39m\u001b[38;5;124m __main__, which doesn\u001b[39m\u001b[38;5;124m'\u001b[39m\u001b[38;5;124mt work.\u001b[39m\u001b[38;5;124m\"\u001b[39m \u001b[38;5;241m%\u001b[39m w)\n\u001b[1;32m    703\u001b[0m runner_class \u001b[38;5;241m=\u001b[39m \u001b[38;5;28mself\u001b[39m\u001b[38;5;241m.\u001b[39m_runner_class()\n\u001b[0;32m--> 704\u001b[0m kwargs \u001b[38;5;241m=\u001b[39m \u001b[38;5;28;43mself\u001b[39;49m\u001b[38;5;241;43m.\u001b[39;49m\u001b[43m_runner_kwargs\u001b[49m\u001b[43m(\u001b[49m\u001b[43m)\u001b[49m\n\u001b[1;32m    706\u001b[0m \u001b[38;5;66;03m# screen out most false-ish args so that it's readable\u001b[39;00m\n\u001b[1;32m    707\u001b[0m log\u001b[38;5;241m.\u001b[39mdebug(\u001b[38;5;124m'\u001b[39m\u001b[38;5;124mmaking runner: \u001b[39m\u001b[38;5;132;01m%s\u001b[39;00m\u001b[38;5;124m(\u001b[39m\u001b[38;5;132;01m%s\u001b[39;00m\u001b[38;5;124m, ...)\u001b[39m\u001b[38;5;124m'\u001b[39m \u001b[38;5;241m%\u001b[39m (\n\u001b[1;32m    708\u001b[0m     runner_class\u001b[38;5;241m.\u001b[39m\u001b[38;5;18m__name__\u001b[39m,\n\u001b[1;32m    709\u001b[0m     \u001b[38;5;124m'\u001b[39m\u001b[38;5;124m, \u001b[39m\u001b[38;5;124m'\u001b[39m\u001b[38;5;241m.\u001b[39mjoin(\u001b[38;5;124m'\u001b[39m\u001b[38;5;132;01m%s\u001b[39;00m\u001b[38;5;124m=\u001b[39m\u001b[38;5;132;01m%s\u001b[39;00m\u001b[38;5;124m'\u001b[39m \u001b[38;5;241m%\u001b[39m (k, v)\n\u001b[1;32m    710\u001b[0m               \u001b[38;5;28;01mfor\u001b[39;00m k, v \u001b[38;5;129;01min\u001b[39;00m \u001b[38;5;28msorted\u001b[39m(kwargs\u001b[38;5;241m.\u001b[39mitems())\n\u001b[1;32m    711\u001b[0m               \u001b[38;5;28;01mif\u001b[39;00m v \u001b[38;5;129;01mnot\u001b[39;00m \u001b[38;5;129;01min\u001b[39;00m (\u001b[38;5;28;01mNone\u001b[39;00m, [], {}))))\n",
      "File \u001b[0;32m/usr/local/lib/python3.10/dist-packages/mrjob/job.py:724\u001b[0m, in \u001b[0;36mMRJob._runner_kwargs\u001b[0;34m(self)\u001b[0m\n\u001b[1;32m    720\u001b[0m \u001b[38;5;28;01mdef\u001b[39;00m \u001b[38;5;21m_runner_kwargs\u001b[39m(\u001b[38;5;28mself\u001b[39m):\n\u001b[1;32m    721\u001b[0m \u001b[38;5;250m    \u001b[39m\u001b[38;5;124;03m\"\"\"If we're building an inline or Spark runner,\u001b[39;00m\n\u001b[1;32m    722\u001b[0m \u001b[38;5;124;03m    include mrjob_cls in kwargs.\"\"\"\u001b[39;00m\n\u001b[1;32m    723\u001b[0m     kwargs \u001b[38;5;241m=\u001b[39m combine_dicts(\n\u001b[0;32m--> 724\u001b[0m         \u001b[38;5;28;43mself\u001b[39;49m\u001b[38;5;241;43m.\u001b[39;49m\u001b[43m_non_option_kwargs\u001b[49m\u001b[43m(\u001b[49m\u001b[43m)\u001b[49m,\n\u001b[1;32m    725\u001b[0m         \u001b[38;5;66;03m# don't screen out irrelevant opts (see #1898)\u001b[39;00m\n\u001b[1;32m    726\u001b[0m         \u001b[38;5;28mself\u001b[39m\u001b[38;5;241m.\u001b[39m_kwargs_from_switches(\u001b[38;5;28mset\u001b[39m(_RUNNER_OPTS)),\n\u001b[1;32m    727\u001b[0m         \u001b[38;5;28mself\u001b[39m\u001b[38;5;241m.\u001b[39m_job_kwargs(),\n\u001b[1;32m    728\u001b[0m     )\n\u001b[1;32m    730\u001b[0m     \u001b[38;5;28;01mif\u001b[39;00m \u001b[38;5;28mself\u001b[39m\u001b[38;5;241m.\u001b[39m_runner_class()\u001b[38;5;241m.\u001b[39malias \u001b[38;5;129;01min\u001b[39;00m (\u001b[38;5;124m'\u001b[39m\u001b[38;5;124minline\u001b[39m\u001b[38;5;124m'\u001b[39m, \u001b[38;5;124m'\u001b[39m\u001b[38;5;124mspark\u001b[39m\u001b[38;5;124m'\u001b[39m):\n\u001b[1;32m    731\u001b[0m         kwargs \u001b[38;5;241m=\u001b[39m \u001b[38;5;28mdict\u001b[39m(mrjob_cls\u001b[38;5;241m=\u001b[39m\u001b[38;5;28mself\u001b[39m\u001b[38;5;241m.\u001b[39m\u001b[38;5;18m__class__\u001b[39m, \u001b[38;5;241m*\u001b[39m\u001b[38;5;241m*\u001b[39mkwargs)\n",
      "File \u001b[0;32m/usr/local/lib/python3.10/dist-packages/mrjob/job.py:223\u001b[0m, in \u001b[0;36mMRJob._non_option_kwargs\u001b[0;34m(self)\u001b[0m\n\u001b[1;32m    212\u001b[0m             extra_args\u001b[38;5;241m.\u001b[39mextend(args)\n\u001b[1;32m    214\u001b[0m \u001b[38;5;66;03m# max_output_files is added by _add_runner_args() but can only\u001b[39;00m\n\u001b[1;32m    215\u001b[0m \u001b[38;5;66;03m# be set from the command line, so we add it here (see #2040)\u001b[39;00m\n\u001b[1;32m    216\u001b[0m \u001b[38;5;28;01mreturn\u001b[39;00m \u001b[38;5;28mdict\u001b[39m(\n\u001b[1;32m    217\u001b[0m     conf_paths\u001b[38;5;241m=\u001b[39m\u001b[38;5;28mself\u001b[39m\u001b[38;5;241m.\u001b[39moptions\u001b[38;5;241m.\u001b[39mconf_paths,\n\u001b[1;32m    218\u001b[0m     extra_args\u001b[38;5;241m=\u001b[39mextra_args,\n\u001b[1;32m    219\u001b[0m     hadoop_input_format\u001b[38;5;241m=\u001b[39m\u001b[38;5;28mself\u001b[39m\u001b[38;5;241m.\u001b[39mhadoop_input_format(),\n\u001b[1;32m    220\u001b[0m     hadoop_output_format\u001b[38;5;241m=\u001b[39m\u001b[38;5;28mself\u001b[39m\u001b[38;5;241m.\u001b[39mhadoop_output_format(),\n\u001b[1;32m    221\u001b[0m     input_paths\u001b[38;5;241m=\u001b[39m\u001b[38;5;28mself\u001b[39m\u001b[38;5;241m.\u001b[39moptions\u001b[38;5;241m.\u001b[39margs,\n\u001b[1;32m    222\u001b[0m     max_output_files\u001b[38;5;241m=\u001b[39m\u001b[38;5;28mself\u001b[39m\u001b[38;5;241m.\u001b[39moptions\u001b[38;5;241m.\u001b[39mmax_output_files,\n\u001b[0;32m--> 223\u001b[0m     mr_job_script\u001b[38;5;241m=\u001b[39m\u001b[38;5;28;43mself\u001b[39;49m\u001b[38;5;241;43m.\u001b[39;49m\u001b[43mmr_job_script\u001b[49m\u001b[43m(\u001b[49m\u001b[43m)\u001b[49m,\n\u001b[1;32m    224\u001b[0m     output_dir\u001b[38;5;241m=\u001b[39m\u001b[38;5;28mself\u001b[39m\u001b[38;5;241m.\u001b[39moptions\u001b[38;5;241m.\u001b[39moutput_dir,\n\u001b[1;32m    225\u001b[0m     partitioner\u001b[38;5;241m=\u001b[39m\u001b[38;5;28mself\u001b[39m\u001b[38;5;241m.\u001b[39mpartitioner(),\n\u001b[1;32m    226\u001b[0m     stdin\u001b[38;5;241m=\u001b[39m\u001b[38;5;28mself\u001b[39m\u001b[38;5;241m.\u001b[39mstdin,\n\u001b[1;32m    227\u001b[0m     step_output_dir\u001b[38;5;241m=\u001b[39m\u001b[38;5;28mself\u001b[39m\u001b[38;5;241m.\u001b[39moptions\u001b[38;5;241m.\u001b[39mstep_output_dir,\n\u001b[1;32m    228\u001b[0m )\n",
      "File \u001b[0;32m/usr/local/lib/python3.10/dist-packages/mrjob/job.py:926\u001b[0m, in \u001b[0;36mMRJob.mr_job_script\u001b[0;34m(cls)\u001b[0m\n\u001b[1;32m    922\u001b[0m \u001b[38;5;250m\u001b[39m\u001b[38;5;124;03m\"\"\"Path of this script. This returns the file containing\u001b[39;00m\n\u001b[1;32m    923\u001b[0m \u001b[38;5;124;03mthis class, or ``None`` if there isn't any (e.g. it was\u001b[39;00m\n\u001b[1;32m    924\u001b[0m \u001b[38;5;124;03mdefined from the command line interface.)\"\"\"\u001b[39;00m\n\u001b[1;32m    925\u001b[0m \u001b[38;5;28;01mtry\u001b[39;00m:\n\u001b[0;32m--> 926\u001b[0m     \u001b[38;5;28;01mreturn\u001b[39;00m \u001b[43minspect\u001b[49m\u001b[38;5;241;43m.\u001b[39;49m\u001b[43mgetsourcefile\u001b[49m\u001b[43m(\u001b[49m\u001b[38;5;28;43mcls\u001b[39;49m\u001b[43m)\u001b[49m\n\u001b[1;32m    927\u001b[0m \u001b[38;5;28;01mexcept\u001b[39;00m \u001b[38;5;167;01mTypeError\u001b[39;00m:\n\u001b[1;32m    928\u001b[0m     \u001b[38;5;28;01mreturn\u001b[39;00m \u001b[38;5;28;01mNone\u001b[39;00m\n",
      "File \u001b[0;32m/usr/lib/python3.10/inspect.py:817\u001b[0m, in \u001b[0;36mgetsourcefile\u001b[0;34m(object)\u001b[0m\n\u001b[1;32m    813\u001b[0m \u001b[38;5;28;01mdef\u001b[39;00m \u001b[38;5;21mgetsourcefile\u001b[39m(\u001b[38;5;28mobject\u001b[39m):\n\u001b[1;32m    814\u001b[0m \u001b[38;5;250m    \u001b[39m\u001b[38;5;124;03m\"\"\"Return the filename that can be used to locate an object's source.\u001b[39;00m\n\u001b[1;32m    815\u001b[0m \u001b[38;5;124;03m    Return None if no way can be identified to get the source.\u001b[39;00m\n\u001b[1;32m    816\u001b[0m \u001b[38;5;124;03m    \"\"\"\u001b[39;00m\n\u001b[0;32m--> 817\u001b[0m     filename \u001b[38;5;241m=\u001b[39m \u001b[43mgetfile\u001b[49m\u001b[43m(\u001b[49m\u001b[38;5;28;43mobject\u001b[39;49m\u001b[43m)\u001b[49m\n\u001b[1;32m    818\u001b[0m     all_bytecode_suffixes \u001b[38;5;241m=\u001b[39m importlib\u001b[38;5;241m.\u001b[39mmachinery\u001b[38;5;241m.\u001b[39mDEBUG_BYTECODE_SUFFIXES[:]\n\u001b[1;32m    819\u001b[0m     all_bytecode_suffixes \u001b[38;5;241m+\u001b[39m\u001b[38;5;241m=\u001b[39m importlib\u001b[38;5;241m.\u001b[39mmachinery\u001b[38;5;241m.\u001b[39mOPTIMIZED_BYTECODE_SUFFIXES[:]\n",
      "File \u001b[0;32m/usr/lib/python3.10/inspect.py:785\u001b[0m, in \u001b[0;36mgetfile\u001b[0;34m(object)\u001b[0m\n\u001b[1;32m    783\u001b[0m             \u001b[38;5;28;01mreturn\u001b[39;00m module\u001b[38;5;241m.\u001b[39m\u001b[38;5;18m__file__\u001b[39m\n\u001b[1;32m    784\u001b[0m         \u001b[38;5;28;01mif\u001b[39;00m \u001b[38;5;28mobject\u001b[39m\u001b[38;5;241m.\u001b[39m\u001b[38;5;18m__module__\u001b[39m \u001b[38;5;241m==\u001b[39m \u001b[38;5;124m'\u001b[39m\u001b[38;5;124m__main__\u001b[39m\u001b[38;5;124m'\u001b[39m:\n\u001b[0;32m--> 785\u001b[0m             \u001b[38;5;28;01mraise\u001b[39;00m \u001b[38;5;167;01mOSError\u001b[39;00m(\u001b[38;5;124m'\u001b[39m\u001b[38;5;124msource code not available\u001b[39m\u001b[38;5;124m'\u001b[39m)\n\u001b[1;32m    786\u001b[0m     \u001b[38;5;28;01mraise\u001b[39;00m \u001b[38;5;167;01mTypeError\u001b[39;00m(\u001b[38;5;124m'\u001b[39m\u001b[38;5;132;01m{!r}\u001b[39;00m\u001b[38;5;124m is a built-in class\u001b[39m\u001b[38;5;124m'\u001b[39m\u001b[38;5;241m.\u001b[39mformat(\u001b[38;5;28mobject\u001b[39m))\n\u001b[1;32m    787\u001b[0m \u001b[38;5;28;01mif\u001b[39;00m ismethod(\u001b[38;5;28mobject\u001b[39m):\n",
      "\u001b[0;31mOSError\u001b[0m: source code not available"
     ]
    }
   ],
   "source": [
    "from mrjob.job import MRJob\n",
    "from mrjob.step import MRStep\n",
    "\n",
    "class CombinedMapReduce(MRJob):\n",
    "\n",
    "    def configure_args(self):\n",
    "        super(CombinedMapReduce, self).configure_args()\n",
    "        self.add_file_arg('--input', help='Path to input file in HDFS')\n",
    "\n",
    "    def mapper_get_character_count(self, _, line):\n",
    "        episode_id, character, dialogue = line.split('\\t')\n",
    "        yield (episode_id, character), 1\n",
    "\n",
    "    def reducer_get_character_count(self, key, values):\n",
    "        total_count = sum(values)\n",
    "        yield key, total_count\n",
    "\n",
    "    def mapper_get_top_characters(self, key, value):\n",
    "        character, count = key\n",
    "        yield None, (count, character)\n",
    "\n",
    "    def reducer_init_get_top_characters(self):\n",
    "        self.top_characters = []\n",
    "\n",
    "    def reducer_get_top_characters(self, _, values):\n",
    "        for count, character in values:\n",
    "            self.top_characters.append((count, character))\n",
    "            self.top_characters = sorted(self.top_characters, reverse=True)[:20]\n",
    "\n",
    "    def reducer_final_get_top_characters(self):\n",
    "        for count, character in self.top_characters:\n",
    "            yield character, count\n",
    "\n",
    "    def steps(self):\n",
    "        return [\n",
    "            MRStep(mapper=self.mapper_get_character_count, reducer=self.reducer_get_character_count),\n",
    "            MRStep(mapper=self.mapper_get_top_characters, reducer_init=self.reducer_init_get_top_characters, reducer=self.reducer_get_top_characters, reducer_final=self.reducer_final_get_top_characters)\n",
    "        ]\n",
    "\n",
    "if __name__ == '__main__':\n",
    "    job = CombinedMapReduce(args=['--input', 'hdfs:///data/SW_EpisodeIV.txt'])\n",
    "    with open('./SW_EpisodeIV.txt', 'r') as f:\n",
    "        input_data = f.read()\n",
    "    input_lines = input_data.split('\\n')\n",
    "    job.sandbox(stdin=input_lines)\n",
    "    output = []\n",
    "    with job.make_runner() as runner:\n",
    "        runner.run()\n",
    "        for line in runner.stream_output():\n",
    "            key, value = job.parse_output_line(line)\n",
    "            output.append((key, value))\n",
    "    print(output)"
   ]
  },
  {
   "cell_type": "code",
   "execution_count": null,
   "id": "ed560642-33f3-4657-98cb-c262e375a97c",
   "metadata": {},
   "outputs": [],
   "source": []
  }
 ],
 "metadata": {
  "kernelspec": {
   "display_name": "Python 3 (ipykernel)",
   "language": "python",
   "name": "python3"
  },
  "language_info": {
   "codemirror_mode": {
    "name": "ipython",
    "version": 3
   },
   "file_extension": ".py",
   "mimetype": "text/x-python",
   "name": "python",
   "nbconvert_exporter": "python",
   "pygments_lexer": "ipython3",
   "version": "3.10.12"
  }
 },
 "nbformat": 4,
 "nbformat_minor": 5
}

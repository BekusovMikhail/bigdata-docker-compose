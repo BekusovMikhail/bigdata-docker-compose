{
 "cells": [
  {
   "cell_type": "markdown",
   "id": "9e274342-182d-43bd-baa8-def7aad128fc",
   "metadata": {},
   "source": [
    "# Start"
   ]
  },
  {
   "cell_type": "code",
   "execution_count": 1,
   "id": "54e8e07f-9296-4a55-9c2d-a4fdcd2a636e",
   "metadata": {},
   "outputs": [
    {
     "name": "stdout",
     "output_type": "stream",
     "text": [
      "Requirement already satisfied: mrjob in /usr/local/lib/python3.10/dist-packages (0.7.4)\n",
      "Requirement already satisfied: PyYAML>=3.10 in /usr/local/lib/python3.10/dist-packages (from mrjob) (6.0.1)\n",
      "\u001b[33mWARNING: Running pip as the 'root' user can result in broken permissions and conflicting behaviour with the system package manager. It is recommended to use a virtual environment instead: https://pip.pypa.io/warnings/venv\u001b[0m\u001b[33m\n",
      "\u001b[0m"
     ]
    }
   ],
   "source": [
    "!pip install mrjob"
   ]
  },
  {
   "cell_type": "code",
   "execution_count": 2,
   "id": "a466652f-c860-41a2-a9d5-93bd05a4db22",
   "metadata": {},
   "outputs": [
    {
     "name": "stdout",
     "output_type": "stream",
     "text": [
      "Requirement already satisfied: pyarrow in /usr/local/lib/python3.10/dist-packages (14.0.1)\n",
      "Requirement already satisfied: numpy>=1.16.6 in /usr/local/lib/python3.10/dist-packages (from pyarrow) (1.26.2)\n",
      "\u001b[33mWARNING: Running pip as the 'root' user can result in broken permissions and conflicting behaviour with the system package manager. It is recommended to use a virtual environment instead: https://pip.pypa.io/warnings/venv\u001b[0m\u001b[33m\n",
      "\u001b[0m"
     ]
    }
   ],
   "source": [
    "!pip install pyarrow"
   ]
  },
  {
   "cell_type": "code",
   "execution_count": 3,
   "id": "c7e97155-5add-41a0-865d-a133ab8c2008",
   "metadata": {},
   "outputs": [
    {
     "name": "stdout",
     "output_type": "stream",
     "text": [
      "mkdir: `/data': File exists\n"
     ]
    }
   ],
   "source": [
    "!hadoop fs -mkdir /data/"
   ]
  },
  {
   "cell_type": "code",
   "execution_count": 4,
   "id": "1edf6ca4-fba6-4061-9d40-3cb4369e9fbb",
   "metadata": {},
   "outputs": [
    {
     "name": "stdout",
     "output_type": "stream",
     "text": [
      "put: `/data/SW_EpisodeIV.txt': File exists\n",
      "put: `/data/SW_EpisodeV.txt': File exists\n",
      "put: `/data/SW_EpisodeVI.txt': File exists\n"
     ]
    }
   ],
   "source": [
    "!hadoop fs -put ../SW_EpisodeIV.txt /data/\n",
    "!hadoop fs -put ../SW_EpisodeV.txt /data/\n",
    "!hadoop fs -put ../SW_EpisodeVI.txt /data/"
   ]
  },
  {
   "cell_type": "code",
   "execution_count": 5,
   "id": "f6eca949-2a60-4072-b878-8d58e82c0ef6",
   "metadata": {},
   "outputs": [],
   "source": [
    "import os\n",
    "os.environ['CLASSPATH'] = '/opt/hadoop/etc/hadoop:/opt/hadoop/share/hadoop/common/lib/zookeeper-3.6.3.jar:/opt/hadoop/share/hadoop/common/lib/guava-27.0-jre.jar:/opt/hadoop/share/hadoop/common/lib/curator-recipes-5.2.0.jar:/opt/hadoop/share/hadoop/common/lib/dnsjava-2.1.7.jar:/opt/hadoop/share/hadoop/common/lib/listenablefuture-9999.0-empty-to-avoid-conflict-with-guava.jar:/opt/hadoop/share/hadoop/common/lib/kerb-simplekdc-1.0.1.jar:/opt/hadoop/share/hadoop/common/lib/netty-buffer-4.1.89.Final.jar:/opt/hadoop/share/hadoop/common/lib/jackson-core-2.12.7.jar:/opt/hadoop/share/hadoop/common/lib/zookeeper-jute-3.6.3.jar:/opt/hadoop/share/hadoop/common/lib/netty-transport-rxtx-4.1.89.Final.jar:/opt/hadoop/share/hadoop/common/lib/kerb-crypto-1.0.1.jar:/opt/hadoop/share/hadoop/common/lib/netty-resolver-dns-4.1.89.Final.jar:/opt/hadoop/share/hadoop/common/lib/kerb-admin-1.0.1.jar:/opt/hadoop/share/hadoop/common/lib/jul-to-slf4j-1.7.36.jar:/opt/hadoop/share/hadoop/common/lib/slf4j-reload4j-1.7.36.jar:/opt/hadoop/share/hadoop/common/lib/stax2-api-4.2.1.jar:/opt/hadoop/share/hadoop/common/lib/netty-all-4.1.89.Final.jar:/opt/hadoop/share/hadoop/common/lib/snappy-java-1.1.8.2.jar:/opt/hadoop/share/hadoop/common/lib/commons-compress-1.21.jar:/opt/hadoop/share/hadoop/common/lib/audience-annotations-0.5.0.jar:/opt/hadoop/share/hadoop/common/lib/checker-qual-2.5.2.jar:/opt/hadoop/share/hadoop/common/lib/metrics-core-3.2.4.jar:/opt/hadoop/share/hadoop/common/lib/netty-handler-proxy-4.1.89.Final.jar:/opt/hadoop/share/hadoop/common/lib/jsr311-api-1.1.1.jar:/opt/hadoop/share/hadoop/common/lib/netty-codec-memcache-4.1.89.Final.jar:/opt/hadoop/share/hadoop/common/lib/netty-resolver-dns-native-macos-4.1.89.Final-osx-x86_64.jar:/opt/hadoop/share/hadoop/common/lib/kerb-server-1.0.1.jar:/opt/hadoop/share/hadoop/common/lib/jsch-0.1.55.jar:/opt/hadoop/share/hadoop/common/lib/jakarta.activation-api-1.2.1.jar:/opt/hadoop/share/hadoop/common/lib/commons-io-2.8.0.jar:/opt/hadoop/share/hadoop/common/lib/gson-2.9.0.jar:/opt/hadoop/share/hadoop/common/lib/hadoop-auth-3.3.6.jar:/opt/hadoop/share/hadoop/common/lib/jcip-annotations-1.0-1.jar:/opt/hadoop/share/hadoop/common/lib/jackson-annotations-2.12.7.jar:/opt/hadoop/share/hadoop/common/lib/jackson-mapper-asl-1.9.13.jar:/opt/hadoop/share/hadoop/common/lib/animal-sniffer-annotations-1.17.jar:/opt/hadoop/share/hadoop/common/lib/netty-handler-4.1.89.Final.jar:/opt/hadoop/share/hadoop/common/lib/protobuf-java-2.5.0.jar:/opt/hadoop/share/hadoop/common/lib/netty-transport-4.1.89.Final.jar:/opt/hadoop/share/hadoop/common/lib/commons-codec-1.15.jar:/opt/hadoop/share/hadoop/common/lib/jettison-1.5.4.jar:/opt/hadoop/share/hadoop/common/lib/jersey-json-1.20.jar:/opt/hadoop/share/hadoop/common/lib/jackson-core-asl-1.9.13.jar:/opt/hadoop/share/hadoop/common/lib/jetty-xml-9.4.51.v20230217.jar:/opt/hadoop/share/hadoop/common/lib/hadoop-annotations-3.3.6.jar:/opt/hadoop/share/hadoop/common/lib/netty-resolver-dns-native-macos-4.1.89.Final-osx-aarch_64.jar:/opt/hadoop/share/hadoop/common/lib/commons-math3-3.1.1.jar:/opt/hadoop/share/hadoop/common/lib/netty-transport-sctp-4.1.89.Final.jar:/opt/hadoop/share/hadoop/common/lib/kerby-xdr-1.0.1.jar:/opt/hadoop/share/hadoop/common/lib/netty-resolver-dns-classes-macos-4.1.89.Final.jar:/opt/hadoop/share/hadoop/common/lib/commons-beanutils-1.9.4.jar:/opt/hadoop/share/hadoop/common/lib/netty-transport-udt-4.1.89.Final.jar:/opt/hadoop/share/hadoop/common/lib/javax.servlet-api-3.1.0.jar:/opt/hadoop/share/hadoop/common/lib/netty-transport-native-epoll-4.1.89.Final-linux-x86_64.jar:/opt/hadoop/share/hadoop/common/lib/jetty-server-9.4.51.v20230217.jar:/opt/hadoop/share/hadoop/common/lib/commons-collections-3.2.2.jar:/opt/hadoop/share/hadoop/common/lib/re2j-1.1.jar:/opt/hadoop/share/hadoop/common/lib/jsp-api-2.1.jar:/opt/hadoop/share/hadoop/common/lib/commons-text-1.10.0.jar:/opt/hadoop/share/hadoop/common/lib/netty-codec-smtp-4.1.89.Final.jar:/opt/hadoop/share/hadoop/common/lib/netty-transport-native-unix-common-4.1.89.Final.jar:/opt/hadoop/share/hadoop/common/lib/netty-transport-classes-kqueue-4.1.89.Final.jar:/opt/hadoop/share/hadoop/common/lib/commons-net-3.9.0.jar:/opt/hadoop/share/hadoop/common/lib/token-provider-1.0.1.jar:/opt/hadoop/share/hadoop/common/lib/avro-1.7.7.jar:/opt/hadoop/share/hadoop/common/lib/httpcore-4.4.13.jar:/opt/hadoop/share/hadoop/common/lib/kerby-util-1.0.1.jar:/opt/hadoop/share/hadoop/common/lib/jersey-core-1.19.4.jar:/opt/hadoop/share/hadoop/common/lib/slf4j-api-1.7.36.jar:/opt/hadoop/share/hadoop/common/lib/commons-configuration2-2.8.0.jar:/opt/hadoop/share/hadoop/common/lib/paranamer-2.3.jar:/opt/hadoop/share/hadoop/common/lib/netty-resolver-4.1.89.Final.jar:/opt/hadoop/share/hadoop/common/lib/jetty-util-ajax-9.4.51.v20230217.jar:/opt/hadoop/share/hadoop/common/lib/kerb-client-1.0.1.jar:/opt/hadoop/share/hadoop/common/lib/curator-client-5.2.0.jar:/opt/hadoop/share/hadoop/common/lib/netty-codec-socks-4.1.89.Final.jar:/opt/hadoop/share/hadoop/common/lib/jetty-security-9.4.51.v20230217.jar:/opt/hadoop/share/hadoop/common/lib/jetty-util-9.4.51.v20230217.jar:/opt/hadoop/share/hadoop/common/lib/commons-cli-1.2.jar:/opt/hadoop/share/hadoop/common/lib/hadoop-shaded-protobuf_3_7-1.1.1.jar:/opt/hadoop/share/hadoop/common/lib/httpclient-4.5.13.jar:/opt/hadoop/share/hadoop/common/lib/netty-codec-dns-4.1.89.Final.jar:/opt/hadoop/share/hadoop/common/lib/netty-transport-native-epoll-4.1.89.Final-linux-aarch_64.jar:/opt/hadoop/share/hadoop/common/lib/curator-framework-5.2.0.jar:/opt/hadoop/share/hadoop/common/lib/netty-transport-native-kqueue-4.1.89.Final-osx-aarch_64.jar:/opt/hadoop/share/hadoop/common/lib/hadoop-shaded-guava-1.1.1.jar:/opt/hadoop/share/hadoop/common/lib/jetty-http-9.4.51.v20230217.jar:/opt/hadoop/share/hadoop/common/lib/netty-codec-haproxy-4.1.89.Final.jar:/opt/hadoop/share/hadoop/common/lib/netty-handler-ssl-ocsp-4.1.89.Final.jar:/opt/hadoop/share/hadoop/common/lib/jersey-servlet-1.19.4.jar:/opt/hadoop/share/hadoop/common/lib/kerby-pkix-1.0.1.jar:/opt/hadoop/share/hadoop/common/lib/jaxb-impl-2.2.3-1.jar:/opt/hadoop/share/hadoop/common/lib/jersey-server-1.19.4.jar:/opt/hadoop/share/hadoop/common/lib/netty-codec-http-4.1.89.Final.jar:/opt/hadoop/share/hadoop/common/lib/kerb-core-1.0.1.jar:/opt/hadoop/share/hadoop/common/lib/netty-codec-http2-4.1.89.Final.jar:/opt/hadoop/share/hadoop/common/lib/netty-transport-classes-epoll-4.1.89.Final.jar:/opt/hadoop/share/hadoop/common/lib/jetty-io-9.4.51.v20230217.jar:/opt/hadoop/share/hadoop/common/lib/jetty-servlet-9.4.51.v20230217.jar:/opt/hadoop/share/hadoop/common/lib/failureaccess-1.0.jar:/opt/hadoop/share/hadoop/common/lib/jetty-webapp-9.4.51.v20230217.jar:/opt/hadoop/share/hadoop/common/lib/kerby-asn1-1.0.1.jar:/opt/hadoop/share/hadoop/common/lib/kerb-common-1.0.1.jar:/opt/hadoop/share/hadoop/common/lib/jsr305-3.0.2.jar:/opt/hadoop/share/hadoop/common/lib/j2objc-annotations-1.1.jar:/opt/hadoop/share/hadoop/common/lib/kerby-config-1.0.1.jar:/opt/hadoop/share/hadoop/common/lib/netty-codec-xml-4.1.89.Final.jar:/opt/hadoop/share/hadoop/common/lib/netty-codec-mqtt-4.1.89.Final.jar:/opt/hadoop/share/hadoop/common/lib/reload4j-1.2.22.jar:/opt/hadoop/share/hadoop/common/lib/netty-codec-4.1.89.Final.jar:/opt/hadoop/share/hadoop/common/lib/woodstox-core-5.4.0.jar:/opt/hadoop/share/hadoop/common/lib/netty-codec-stomp-4.1.89.Final.jar:/opt/hadoop/share/hadoop/common/lib/netty-common-4.1.89.Final.jar:/opt/hadoop/share/hadoop/common/lib/kerb-util-1.0.1.jar:/opt/hadoop/share/hadoop/common/lib/jackson-databind-2.12.7.1.jar:/opt/hadoop/share/hadoop/common/lib/commons-lang3-3.12.0.jar:/opt/hadoop/share/hadoop/common/lib/commons-daemon-1.0.13.jar:/opt/hadoop/share/hadoop/common/lib/netty-codec-redis-4.1.89.Final.jar:/opt/hadoop/share/hadoop/common/lib/jaxb-api-2.2.11.jar:/opt/hadoop/share/hadoop/common/lib/netty-transport-native-kqueue-4.1.89.Final-osx-x86_64.jar:/opt/hadoop/share/hadoop/common/lib/commons-logging-1.1.3.jar:/opt/hadoop/share/hadoop/common/lib/kerb-identity-1.0.1.jar:/opt/hadoop/share/hadoop/common/lib/nimbus-jose-jwt-9.8.1.jar:/opt/hadoop/share/hadoop/common/hadoop-registry-3.3.6.jar:/opt/hadoop/share/hadoop/common/hadoop-kms-3.3.6.jar:/opt/hadoop/share/hadoop/common/hadoop-nfs-3.3.6.jar:/opt/hadoop/share/hadoop/common/hadoop-common-3.3.6-tests.jar:/opt/hadoop/share/hadoop/common/hadoop-common-3.3.6.jar:/opt/hadoop/share/hadoop/hdfs:/opt/hadoop/share/hadoop/hdfs/lib/zookeeper-3.6.3.jar:/opt/hadoop/share/hadoop/hdfs/lib/guava-27.0-jre.jar:/opt/hadoop/share/hadoop/hdfs/lib/curator-recipes-5.2.0.jar:/opt/hadoop/share/hadoop/hdfs/lib/dnsjava-2.1.7.jar:/opt/hadoop/share/hadoop/hdfs/lib/listenablefuture-9999.0-empty-to-avoid-conflict-with-guava.jar:/opt/hadoop/share/hadoop/hdfs/lib/kerb-simplekdc-1.0.1.jar:/opt/hadoop/share/hadoop/hdfs/lib/netty-buffer-4.1.89.Final.jar:/opt/hadoop/share/hadoop/hdfs/lib/jackson-core-2.12.7.jar:/opt/hadoop/share/hadoop/hdfs/lib/zookeeper-jute-3.6.3.jar:/opt/hadoop/share/hadoop/hdfs/lib/netty-transport-rxtx-4.1.89.Final.jar:/opt/hadoop/share/hadoop/hdfs/lib/kerb-crypto-1.0.1.jar:/opt/hadoop/share/hadoop/hdfs/lib/netty-resolver-dns-4.1.89.Final.jar:/opt/hadoop/share/hadoop/hdfs/lib/kerb-admin-1.0.1.jar:/opt/hadoop/share/hadoop/hdfs/lib/stax2-api-4.2.1.jar:/opt/hadoop/share/hadoop/hdfs/lib/netty-all-4.1.89.Final.jar:/opt/hadoop/share/hadoop/hdfs/lib/snappy-java-1.1.8.2.jar:/opt/hadoop/share/hadoop/hdfs/lib/commons-compress-1.21.jar:/opt/hadoop/share/hadoop/hdfs/lib/audience-annotations-0.5.0.jar:/opt/hadoop/share/hadoop/hdfs/lib/checker-qual-2.5.2.jar:/opt/hadoop/share/hadoop/hdfs/lib/metrics-core-3.2.4.jar:/opt/hadoop/share/hadoop/hdfs/lib/netty-handler-proxy-4.1.89.Final.jar:/opt/hadoop/share/hadoop/hdfs/lib/jsr311-api-1.1.1.jar:/opt/hadoop/share/hadoop/hdfs/lib/kotlin-stdlib-1.4.10.jar:/opt/hadoop/share/hadoop/hdfs/lib/netty-codec-memcache-4.1.89.Final.jar:/opt/hadoop/share/hadoop/hdfs/lib/netty-resolver-dns-native-macos-4.1.89.Final-osx-x86_64.jar:/opt/hadoop/share/hadoop/hdfs/lib/kerb-server-1.0.1.jar:/opt/hadoop/share/hadoop/hdfs/lib/jsch-0.1.55.jar:/opt/hadoop/share/hadoop/hdfs/lib/jakarta.activation-api-1.2.1.jar:/opt/hadoop/share/hadoop/hdfs/lib/commons-io-2.8.0.jar:/opt/hadoop/share/hadoop/hdfs/lib/gson-2.9.0.jar:/opt/hadoop/share/hadoop/hdfs/lib/hadoop-auth-3.3.6.jar:/opt/hadoop/share/hadoop/hdfs/lib/jcip-annotations-1.0-1.jar:/opt/hadoop/share/hadoop/hdfs/lib/jackson-annotations-2.12.7.jar:/opt/hadoop/share/hadoop/hdfs/lib/jackson-mapper-asl-1.9.13.jar:/opt/hadoop/share/hadoop/hdfs/lib/animal-sniffer-annotations-1.17.jar:/opt/hadoop/share/hadoop/hdfs/lib/json-simple-1.1.1.jar:/opt/hadoop/share/hadoop/hdfs/lib/netty-handler-4.1.89.Final.jar:/opt/hadoop/share/hadoop/hdfs/lib/protobuf-java-2.5.0.jar:/opt/hadoop/share/hadoop/hdfs/lib/netty-transport-4.1.89.Final.jar:/opt/hadoop/share/hadoop/hdfs/lib/commons-codec-1.15.jar:/opt/hadoop/share/hadoop/hdfs/lib/jettison-1.5.4.jar:/opt/hadoop/share/hadoop/hdfs/lib/leveldbjni-all-1.8.jar:/opt/hadoop/share/hadoop/hdfs/lib/jersey-json-1.20.jar:/opt/hadoop/share/hadoop/hdfs/lib/jackson-core-asl-1.9.13.jar:/opt/hadoop/share/hadoop/hdfs/lib/jetty-xml-9.4.51.v20230217.jar:/opt/hadoop/share/hadoop/hdfs/lib/hadoop-annotations-3.3.6.jar:/opt/hadoop/share/hadoop/hdfs/lib/netty-resolver-dns-native-macos-4.1.89.Final-osx-aarch_64.jar:/opt/hadoop/share/hadoop/hdfs/lib/commons-math3-3.1.1.jar:/opt/hadoop/share/hadoop/hdfs/lib/netty-transport-sctp-4.1.89.Final.jar:/opt/hadoop/share/hadoop/hdfs/lib/kerby-xdr-1.0.1.jar:/opt/hadoop/share/hadoop/hdfs/lib/netty-resolver-dns-classes-macos-4.1.89.Final.jar:/opt/hadoop/share/hadoop/hdfs/lib/commons-beanutils-1.9.4.jar:/opt/hadoop/share/hadoop/hdfs/lib/netty-transport-udt-4.1.89.Final.jar:/opt/hadoop/share/hadoop/hdfs/lib/javax.servlet-api-3.1.0.jar:/opt/hadoop/share/hadoop/hdfs/lib/netty-transport-native-epoll-4.1.89.Final-linux-x86_64.jar:/opt/hadoop/share/hadoop/hdfs/lib/jetty-server-9.4.51.v20230217.jar:/opt/hadoop/share/hadoop/hdfs/lib/commons-collections-3.2.2.jar:/opt/hadoop/share/hadoop/hdfs/lib/re2j-1.1.jar:/opt/hadoop/share/hadoop/hdfs/lib/commons-text-1.10.0.jar:/opt/hadoop/share/hadoop/hdfs/lib/netty-codec-smtp-4.1.89.Final.jar:/opt/hadoop/share/hadoop/hdfs/lib/netty-transport-native-unix-common-4.1.89.Final.jar:/opt/hadoop/share/hadoop/hdfs/lib/netty-transport-classes-kqueue-4.1.89.Final.jar:/opt/hadoop/share/hadoop/hdfs/lib/commons-net-3.9.0.jar:/opt/hadoop/share/hadoop/hdfs/lib/token-provider-1.0.1.jar:/opt/hadoop/share/hadoop/hdfs/lib/avro-1.7.7.jar:/opt/hadoop/share/hadoop/hdfs/lib/kotlin-stdlib-common-1.4.10.jar:/opt/hadoop/share/hadoop/hdfs/lib/httpcore-4.4.13.jar:/opt/hadoop/share/hadoop/hdfs/lib/kerby-util-1.0.1.jar:/opt/hadoop/share/hadoop/hdfs/lib/jersey-core-1.19.4.jar:/opt/hadoop/share/hadoop/hdfs/lib/commons-configuration2-2.8.0.jar:/opt/hadoop/share/hadoop/hdfs/lib/paranamer-2.3.jar:/opt/hadoop/share/hadoop/hdfs/lib/netty-resolver-4.1.89.Final.jar:/opt/hadoop/share/hadoop/hdfs/lib/jetty-util-ajax-9.4.51.v20230217.jar:/opt/hadoop/share/hadoop/hdfs/lib/kerb-client-1.0.1.jar:/opt/hadoop/share/hadoop/hdfs/lib/curator-client-5.2.0.jar:/opt/hadoop/share/hadoop/hdfs/lib/netty-codec-socks-4.1.89.Final.jar:/opt/hadoop/share/hadoop/hdfs/lib/jetty-security-9.4.51.v20230217.jar:/opt/hadoop/share/hadoop/hdfs/lib/okhttp-4.9.3.jar:/opt/hadoop/share/hadoop/hdfs/lib/jetty-util-9.4.51.v20230217.jar:/opt/hadoop/share/hadoop/hdfs/lib/commons-cli-1.2.jar:/opt/hadoop/share/hadoop/hdfs/lib/hadoop-shaded-protobuf_3_7-1.1.1.jar:/opt/hadoop/share/hadoop/hdfs/lib/HikariCP-java7-2.4.12.jar:/opt/hadoop/share/hadoop/hdfs/lib/httpclient-4.5.13.jar:/opt/hadoop/share/hadoop/hdfs/lib/netty-codec-dns-4.1.89.Final.jar:/opt/hadoop/share/hadoop/hdfs/lib/netty-transport-native-epoll-4.1.89.Final-linux-aarch_64.jar:/opt/hadoop/share/hadoop/hdfs/lib/curator-framework-5.2.0.jar:/opt/hadoop/share/hadoop/hdfs/lib/netty-transport-native-kqueue-4.1.89.Final-osx-aarch_64.jar:/opt/hadoop/share/hadoop/hdfs/lib/hadoop-shaded-guava-1.1.1.jar:/opt/hadoop/share/hadoop/hdfs/lib/jetty-http-9.4.51.v20230217.jar:/opt/hadoop/share/hadoop/hdfs/lib/netty-codec-haproxy-4.1.89.Final.jar:/opt/hadoop/share/hadoop/hdfs/lib/netty-handler-ssl-ocsp-4.1.89.Final.jar:/opt/hadoop/share/hadoop/hdfs/lib/netty-3.10.6.Final.jar:/opt/hadoop/share/hadoop/hdfs/lib/jersey-servlet-1.19.4.jar:/opt/hadoop/share/hadoop/hdfs/lib/kerby-pkix-1.0.1.jar:/opt/hadoop/share/hadoop/hdfs/lib/jaxb-impl-2.2.3-1.jar:/opt/hadoop/share/hadoop/hdfs/lib/jersey-server-1.19.4.jar:/opt/hadoop/share/hadoop/hdfs/lib/netty-codec-http-4.1.89.Final.jar:/opt/hadoop/share/hadoop/hdfs/lib/kerb-core-1.0.1.jar:/opt/hadoop/share/hadoop/hdfs/lib/netty-codec-http2-4.1.89.Final.jar:/opt/hadoop/share/hadoop/hdfs/lib/netty-transport-classes-epoll-4.1.89.Final.jar:/opt/hadoop/share/hadoop/hdfs/lib/jetty-io-9.4.51.v20230217.jar:/opt/hadoop/share/hadoop/hdfs/lib/jetty-servlet-9.4.51.v20230217.jar:/opt/hadoop/share/hadoop/hdfs/lib/failureaccess-1.0.jar:/opt/hadoop/share/hadoop/hdfs/lib/jetty-webapp-9.4.51.v20230217.jar:/opt/hadoop/share/hadoop/hdfs/lib/kerby-asn1-1.0.1.jar:/opt/hadoop/share/hadoop/hdfs/lib/kerb-common-1.0.1.jar:/opt/hadoop/share/hadoop/hdfs/lib/jsr305-3.0.2.jar:/opt/hadoop/share/hadoop/hdfs/lib/j2objc-annotations-1.1.jar:/opt/hadoop/share/hadoop/hdfs/lib/kerby-config-1.0.1.jar:/opt/hadoop/share/hadoop/hdfs/lib/netty-codec-xml-4.1.89.Final.jar:/opt/hadoop/share/hadoop/hdfs/lib/netty-codec-mqtt-4.1.89.Final.jar:/opt/hadoop/share/hadoop/hdfs/lib/reload4j-1.2.22.jar:/opt/hadoop/share/hadoop/hdfs/lib/netty-codec-4.1.89.Final.jar:/opt/hadoop/share/hadoop/hdfs/lib/woodstox-core-5.4.0.jar:/opt/hadoop/share/hadoop/hdfs/lib/netty-codec-stomp-4.1.89.Final.jar:/opt/hadoop/share/hadoop/hdfs/lib/netty-common-4.1.89.Final.jar:/opt/hadoop/share/hadoop/hdfs/lib/kerb-util-1.0.1.jar:/opt/hadoop/share/hadoop/hdfs/lib/jackson-databind-2.12.7.1.jar:/opt/hadoop/share/hadoop/hdfs/lib/commons-lang3-3.12.0.jar:/opt/hadoop/share/hadoop/hdfs/lib/commons-daemon-1.0.13.jar:/opt/hadoop/share/hadoop/hdfs/lib/netty-codec-redis-4.1.89.Final.jar:/opt/hadoop/share/hadoop/hdfs/lib/jaxb-api-2.2.11.jar:/opt/hadoop/share/hadoop/hdfs/lib/netty-transport-native-kqueue-4.1.89.Final-osx-x86_64.jar:/opt/hadoop/share/hadoop/hdfs/lib/okio-2.8.0.jar:/opt/hadoop/share/hadoop/hdfs/lib/commons-logging-1.1.3.jar:/opt/hadoop/share/hadoop/hdfs/lib/kerb-identity-1.0.1.jar:/opt/hadoop/share/hadoop/hdfs/lib/nimbus-jose-jwt-9.8.1.jar:/opt/hadoop/share/hadoop/hdfs/hadoop-hdfs-client-3.3.6.jar:/opt/hadoop/share/hadoop/hdfs/hadoop-hdfs-3.3.6.jar:/opt/hadoop/share/hadoop/hdfs/hadoop-hdfs-native-client-3.3.6-tests.jar:/opt/hadoop/share/hadoop/hdfs/hadoop-hdfs-3.3.6-tests.jar:/opt/hadoop/share/hadoop/hdfs/hadoop-hdfs-nfs-3.3.6.jar:/opt/hadoop/share/hadoop/hdfs/hadoop-hdfs-client-3.3.6-tests.jar:/opt/hadoop/share/hadoop/hdfs/hadoop-hdfs-httpfs-3.3.6.jar:/opt/hadoop/share/hadoop/hdfs/hadoop-hdfs-rbf-3.3.6-tests.jar:/opt/hadoop/share/hadoop/hdfs/hadoop-hdfs-native-client-3.3.6.jar:/opt/hadoop/share/hadoop/hdfs/hadoop-hdfs-rbf-3.3.6.jar:/opt/hadoop/share/hadoop/mapreduce/hadoop-mapreduce-client-common-3.3.6.jar:/opt/hadoop/share/hadoop/mapreduce/hadoop-mapreduce-examples-3.3.6.jar:/opt/hadoop/share/hadoop/mapreduce/hadoop-mapreduce-client-hs-plugins-3.3.6.jar:/opt/hadoop/share/hadoop/mapreduce/hadoop-mapreduce-client-app-3.3.6.jar:/opt/hadoop/share/hadoop/mapreduce/hadoop-mapreduce-client-uploader-3.3.6.jar:/opt/hadoop/share/hadoop/mapreduce/hadoop-mapreduce-client-core-3.3.6.jar:/opt/hadoop/share/hadoop/mapreduce/hadoop-mapreduce-client-jobclient-3.3.6.jar:/opt/hadoop/share/hadoop/mapreduce/hadoop-mapreduce-client-nativetask-3.3.6.jar:/opt/hadoop/share/hadoop/mapreduce/hadoop-mapreduce-client-jobclient-3.3.6-tests.jar:/opt/hadoop/share/hadoop/mapreduce/hadoop-mapreduce-client-shuffle-3.3.6.jar:/opt/hadoop/share/hadoop/mapreduce/hadoop-mapreduce-client-hs-3.3.6.jar:/opt/hadoop/share/hadoop/yarn:/opt/hadoop/share/hadoop/yarn/lib/jetty-client-9.4.51.v20230217.jar:/opt/hadoop/share/hadoop/yarn/lib/jetty-annotations-9.4.51.v20230217.jar:/opt/hadoop/share/hadoop/yarn/lib/websocket-common-9.4.51.v20230217.jar:/opt/hadoop/share/hadoop/yarn/lib/objenesis-2.6.jar:/opt/hadoop/share/hadoop/yarn/lib/jline-3.9.0.jar:/opt/hadoop/share/hadoop/yarn/lib/jetty-jndi-9.4.51.v20230217.jar:/opt/hadoop/share/hadoop/yarn/lib/jersey-client-1.19.4.jar:/opt/hadoop/share/hadoop/yarn/lib/javax.inject-1.jar:/opt/hadoop/share/hadoop/yarn/lib/java-util-1.9.0.jar:/opt/hadoop/share/hadoop/yarn/lib/javax-websocket-server-impl-9.4.51.v20230217.jar:/opt/hadoop/share/hadoop/yarn/lib/jackson-jaxrs-base-2.12.7.jar:/opt/hadoop/share/hadoop/yarn/lib/jackson-jaxrs-json-provider-2.12.7.jar:/opt/hadoop/share/hadoop/yarn/lib/swagger-annotations-1.5.4.jar:/opt/hadoop/share/hadoop/yarn/lib/mssql-jdbc-6.2.1.jre7.jar:/opt/hadoop/share/hadoop/yarn/lib/websocket-client-9.4.51.v20230217.jar:/opt/hadoop/share/hadoop/yarn/lib/jakarta.xml.bind-api-2.3.2.jar:/opt/hadoop/share/hadoop/yarn/lib/jackson-module-jaxb-annotations-2.12.7.jar:/opt/hadoop/share/hadoop/yarn/lib/javax-websocket-client-impl-9.4.51.v20230217.jar:/opt/hadoop/share/hadoop/yarn/lib/javax.websocket-api-1.0.jar:/opt/hadoop/share/hadoop/yarn/lib/bcprov-jdk15on-1.68.jar:/opt/hadoop/share/hadoop/yarn/lib/websocket-servlet-9.4.51.v20230217.jar:/opt/hadoop/share/hadoop/yarn/lib/jna-5.2.0.jar:/opt/hadoop/share/hadoop/yarn/lib/jersey-guice-1.19.4.jar:/opt/hadoop/share/hadoop/yarn/lib/json-io-2.5.1.jar:/opt/hadoop/share/hadoop/yarn/lib/asm-commons-9.4.jar:/opt/hadoop/share/hadoop/yarn/lib/websocket-api-9.4.51.v20230217.jar:/opt/hadoop/share/hadoop/yarn/lib/geronimo-jcache_1.0_spec-1.0-alpha-1.jar:/opt/hadoop/share/hadoop/yarn/lib/guice-4.0.jar:/opt/hadoop/share/hadoop/yarn/lib/aopalliance-1.0.jar:/opt/hadoop/share/hadoop/yarn/lib/jetty-plus-9.4.51.v20230217.jar:/opt/hadoop/share/hadoop/yarn/lib/guice-servlet-4.0.jar:/opt/hadoop/share/hadoop/yarn/lib/bcpkix-jdk15on-1.68.jar:/opt/hadoop/share/hadoop/yarn/lib/websocket-server-9.4.51.v20230217.jar:/opt/hadoop/share/hadoop/yarn/lib/snakeyaml-2.0.jar:/opt/hadoop/share/hadoop/yarn/lib/asm-tree-9.4.jar:/opt/hadoop/share/hadoop/yarn/lib/fst-2.50.jar:/opt/hadoop/share/hadoop/yarn/lib/ehcache-3.3.1.jar:/opt/hadoop/share/hadoop/yarn/lib/javax.websocket-client-api-1.0.jar:/opt/hadoop/share/hadoop/yarn/hadoop-yarn-registry-3.3.6.jar:/opt/hadoop/share/hadoop/yarn/hadoop-yarn-server-timeline-pluginstorage-3.3.6.jar:/opt/hadoop/share/hadoop/yarn/hadoop-yarn-api-3.3.6.jar:/opt/hadoop/share/hadoop/yarn/hadoop-yarn-services-api-3.3.6.jar:/opt/hadoop/share/hadoop/yarn/hadoop-yarn-server-web-proxy-3.3.6.jar:/opt/hadoop/share/hadoop/yarn/hadoop-yarn-common-3.3.6.jar:/opt/hadoop/share/hadoop/yarn/hadoop-yarn-server-router-3.3.6.jar:/opt/hadoop/share/hadoop/yarn/hadoop-yarn-applications-mawo-core-3.3.6.jar:/opt/hadoop/share/hadoop/yarn/hadoop-yarn-server-applicationhistoryservice-3.3.6.jar:/opt/hadoop/share/hadoop/yarn/hadoop-yarn-server-common-3.3.6.jar:/opt/hadoop/share/hadoop/yarn/hadoop-yarn-server-tests-3.3.6.jar:/opt/hadoop/share/hadoop/yarn/hadoop-yarn-server-sharedcachemanager-3.3.6.jar:/opt/hadoop/share/hadoop/yarn/hadoop-yarn-client-3.3.6.jar:/opt/hadoop/share/hadoop/yarn/hadoop-yarn-server-nodemanager-3.3.6.jar:/opt/hadoop/share/hadoop/yarn/hadoop-yarn-server-resourcemanager-3.3.6.jar:/opt/hadoop/share/hadoop/yarn/hadoop-yarn-applications-distributedshell-3.3.6.jar:/opt/hadoop/share/hadoop/yarn/hadoop-yarn-applications-unmanaged-am-launcher-3.3.6.jar:/opt/hadoop/share/hadoop/yarn/hadoop-yarn-services-core-3.3.6.jar'\n"
   ]
  },
  {
   "cell_type": "code",
   "execution_count": 6,
   "id": "49c4de92-8ecc-40f4-a248-161194cb6784",
   "metadata": {},
   "outputs": [],
   "source": [
    "from pyarrow import fs\n",
    "hdfs = fs.HadoopFileSystem(\"namenode\", 8020)\n",
    "# hdfs.create_dir(\"/pyarrow\")"
   ]
  },
  {
   "cell_type": "code",
   "execution_count": 7,
   "id": "dd5d22dc-45a2-4dea-8eda-4d3690171aeb",
   "metadata": {},
   "outputs": [
    {
     "name": "stdout",
     "output_type": "stream",
     "text": [
      "2\n",
      "0\n"
     ]
    }
   ],
   "source": [
    "with hdfs.open_input_stream(\"/data/SW_EpisodeIV.txt\") as file:\n",
    "    data = file.readall().decode(\"utf-8\")\n",
    "data.split(\"\\n\")\n",
    "for i in data.split(\"\\n\"):\n",
    "    words = [x for x in i.split('\"') if x!=\"\" and x!=\" \"]\n",
    "    if len(words)<3:\n",
    "        print(len(words))"
   ]
  },
  {
   "cell_type": "code",
   "execution_count": 8,
   "id": "a7537a21-1d8d-42af-a1e3-bdba4d161480",
   "metadata": {},
   "outputs": [
    {
     "name": "stdout",
     "output_type": "stream",
     "text": [
      "Overwriting config.conf\n"
     ]
    }
   ],
   "source": [
    "%%file config.conf\n",
    "runners:\n",
    "  hadoop: # also works for emr runner\n",
    "    jobconf:\n",
    "      mapreduce.job.reduces: 2\n",
    "      mapreduce.job.maps: 2"
   ]
  },
  {
   "cell_type": "code",
   "execution_count": 9,
   "id": "8e14d3b5-de3b-4800-95d8-9c2fef309a4f",
   "metadata": {
    "scrolled": true
   },
   "outputs": [
    {
     "name": "stdout",
     "output_type": "stream",
     "text": [
      "Requirement already satisfied: matplotlib in /usr/local/lib/python3.10/dist-packages (3.8.2)\n",
      "Requirement already satisfied: numpy<2,>=1.21 in /usr/local/lib/python3.10/dist-packages (from matplotlib) (1.26.2)\n",
      "Requirement already satisfied: pyparsing>=2.3.1 in /usr/local/lib/python3.10/dist-packages (from matplotlib) (3.1.1)\n",
      "Requirement already satisfied: packaging>=20.0 in /usr/local/lib/python3.10/dist-packages (from matplotlib) (23.2)\n",
      "Requirement already satisfied: contourpy>=1.0.1 in /usr/local/lib/python3.10/dist-packages (from matplotlib) (1.2.0)\n",
      "Requirement already satisfied: pillow>=8 in /usr/local/lib/python3.10/dist-packages (from matplotlib) (10.1.0)\n",
      "Requirement already satisfied: kiwisolver>=1.3.1 in /usr/local/lib/python3.10/dist-packages (from matplotlib) (1.4.5)\n",
      "Requirement already satisfied: python-dateutil>=2.7 in /usr/local/lib/python3.10/dist-packages (from matplotlib) (2.8.2)\n",
      "Requirement already satisfied: fonttools>=4.22.0 in /usr/local/lib/python3.10/dist-packages (from matplotlib) (4.45.0)\n",
      "Requirement already satisfied: cycler>=0.10 in /usr/local/lib/python3.10/dist-packages (from matplotlib) (0.12.1)\n",
      "Requirement already satisfied: six>=1.5 in /usr/local/lib/python3.10/dist-packages (from python-dateutil>=2.7->matplotlib) (1.16.0)\n",
      "\u001b[33mWARNING: Running pip as the 'root' user can result in broken permissions and conflicting behaviour with the system package manager. It is recommended to use a virtual environment instead: https://pip.pypa.io/warnings/venv\u001b[0m\u001b[33m\n",
      "\u001b[0m"
     ]
    }
   ],
   "source": [
    "!pip install matplotlib\n",
    "from matplotlib import pyplot as plt"
   ]
  },
  {
   "cell_type": "markdown",
   "id": "921027ad-7d71-4f18-9f74-e14323a7aed8",
   "metadata": {},
   "source": [
    "# Scripts"
   ]
  },
  {
   "cell_type": "code",
   "execution_count": 10,
   "id": "d09104b4-7de7-44c7-a428-3febb0a3e9ee",
   "metadata": {},
   "outputs": [
    {
     "name": "stdout",
     "output_type": "stream",
     "text": [
      "Overwriting phrase_count_local.py\n"
     ]
    }
   ],
   "source": [
    "%%file phrase_count_local.py\n",
    "from mrjob.job import MRJob\n",
    "from mrjob.step import MRStep\n",
    "\n",
    "class Count_phrases(MRJob):\n",
    "    def mapper_1(self, _, line):\n",
    "        icp = [x for x in line.split('\"') if x != \"\" and x != \" \"]\n",
    "        if len(icp) == 3:\n",
    "            character = icp[1]\n",
    "            yield (character, 1)\n",
    "        else:\n",
    "            pass\n",
    "\n",
    "    def reducer_1(self, key, values):\n",
    "        yield key, sum(values)\n",
    "\n",
    "    def mapper_2(self, key, value):\n",
    "        yield None, (key, value)\n",
    "\n",
    "    def reducer_init_2(self):\n",
    "        self.top_characters = []\n",
    "\n",
    "    def reducer_2(self, _, values):\n",
    "        for count, character in values:\n",
    "            self.top_characters.append((count, character))\n",
    "            self.top_characters = sorted(\n",
    "                self.top_characters, reverse=True, key=lambda x: x[1]\n",
    "            )[:20]\n",
    "\n",
    "    def reducer_final_2(self):\n",
    "        for count, character in self.top_characters:\n",
    "            yield character, count\n",
    "\n",
    "    def steps(self):\n",
    "        return [\n",
    "            MRStep(mapper=self.mapper_1, reducer=self.reducer_1),\n",
    "            MRStep(\n",
    "                mapper=self.mapper_2,\n",
    "                reducer_init=self.reducer_init_2,\n",
    "                reducer=self.reducer_2,\n",
    "                reducer_final=self.reducer_final_2,\n",
    "            ),\n",
    "        ]\n",
    "\n",
    "\n",
    "if __name__ == \"__main__\":\n",
    "    count_phrases = Count_phrases()\n",
    "    with count_phrases.make_runner() as runner:\n",
    "        runner.run()\n",
    "        output = [\n",
    "            output for output in count_phrases.parse_output(runner.cat_output())\n",
    "        ]\n",
    "    for x in output:\n",
    "        print(x)"
   ]
  },
  {
   "cell_type": "code",
   "execution_count": 11,
   "id": "cf502194-23a4-4e20-82fb-94b5988a79f8",
   "metadata": {},
   "outputs": [
    {
     "name": "stdout",
     "output_type": "stream",
     "text": [
      "Overwriting phrase_count_hadoop.py\n"
     ]
    }
   ],
   "source": [
    "%%file phrase_count_hadoop.py\n",
    "from mrjob.job import MRJob\n",
    "from mrjob.step import MRStep\n",
    "\n",
    "class Count_phrases(MRJob):\n",
    "    def mapper_1(self, _, line):\n",
    "        icp = [x for x in line.split('\"') if x != \"\" and x != \" \"]\n",
    "        if len(icp) == 3:\n",
    "            character = icp[1]\n",
    "            yield (character, 1)\n",
    "        else:\n",
    "            pass\n",
    "\n",
    "    def reducer_1(self, key, values):\n",
    "        yield key, sum(values)\n",
    "\n",
    "    def mapper_2(self, key, value):\n",
    "        yield None, (key, value)\n",
    "\n",
    "    def reducer_init_2(self):\n",
    "        self.top_characters = []\n",
    "\n",
    "    def reducer_2(self, _, values):\n",
    "        for count, character in values:\n",
    "            self.top_characters.append((count, character))\n",
    "            self.top_characters = sorted(\n",
    "                self.top_characters, reverse=True, key=lambda x: x[1]\n",
    "            )[:20]\n",
    "\n",
    "    def reducer_final_2(self):\n",
    "        for count, character in self.top_characters:\n",
    "            yield character, count\n",
    "\n",
    "    def steps(self):\n",
    "        return [\n",
    "            MRStep(mapper=self.mapper_1, reducer=self.reducer_1),\n",
    "            MRStep(\n",
    "                mapper=self.mapper_2,\n",
    "                reducer_init=self.reducer_init_2,\n",
    "                reducer=self.reducer_2,\n",
    "                reducer_final=self.reducer_final_2,\n",
    "            ),\n",
    "        ]\n",
    "\n",
    "\n",
    "if __name__ == \"__main__\":\n",
    "    Count_phrases().run()"
   ]
  },
  {
   "cell_type": "code",
   "execution_count": 12,
   "id": "ed145254-2e3b-45ab-beed-6d5266240532",
   "metadata": {},
   "outputs": [],
   "source": [
    "def print_output_of_file(filename):\n",
    "    keys = []\n",
    "    values = []\n",
    "    with open(filename) as f:\n",
    "        for l in f:\n",
    "            s = l.strip(\"(),\\n\")\n",
    "            s = s.split(\", \")\n",
    "            values.append(int(s[0]))\n",
    "            keys.append(s[1].strip(\"'\"))\n",
    "    plt.rcParams[\"figure.figsize\"] = (20, 8)\n",
    "    plt.bar(x=keys, height=values)"
   ]
  },
  {
   "cell_type": "markdown",
   "id": "9212f10e-bea1-449f-8c19-afd02868c384",
   "metadata": {},
   "source": [
    "# Ep IV"
   ]
  },
  {
   "cell_type": "code",
   "execution_count": 13,
   "id": "83424913-d268-45c4-be4c-713098cae022",
   "metadata": {},
   "outputs": [
    {
     "name": "stdout",
     "output_type": "stream",
     "text": [
      "No configs specified for inline runner\n"
     ]
    }
   ],
   "source": [
    "!python3 phrase_count_local.py ../SW_EpisodeIV.txt > SW_EpisodeIV_local.txt"
   ]
  },
  {
   "cell_type": "code",
   "execution_count": 14,
   "id": "ce5e3d81-f8f2-4ae9-826b-b743390b4e77",
   "metadata": {
    "scrolled": true
   },
   "outputs": [
    {
     "data": {
      "image/png": "[encoded data removed]",
      "text/plain": [
       "<Figure size 2000x800 with 1 Axes>"
      ]
     },
     "metadata": {},
     "output_type": "display_data"
    }
   ],
   "source": [
    "print_output_of_file(\"./SW_EpisodeIV_local.txt\")"
   ]
  },
  {
   "cell_type": "code",
   "execution_count": 15,
   "id": "b89848de-7459-4a7c-ac3a-b135fb154b2e",
   "metadata": {},
   "outputs": [
    {
     "name": "stdout",
     "output_type": "stream",
     "text": [
      "No configs found; falling back on auto-configuration\n",
      "No configs specified for hadoop runner\n",
      "Looking for hadoop binary in /opt/hadoop/bin...\n",
      "Found hadoop binary: /opt/hadoop/bin/hadoop\n",
      "Using Hadoop version 3.3.6\n",
      "Looking for Hadoop streaming jar in /opt/hadoop...\n",
      "Found Hadoop streaming jar: /opt/hadoop/share/hadoop/tools/lib/hadoop-streaming-3.3.6.jar\n",
      "Creating temp directory /tmp/phrase_count_hadoop.root.20231122.205748.238784\n",
      "uploading working dir files to hdfs:///user/root/tmp/mrjob/phrase_count_hadoop.root.20231122.205748.238784/files/wd...\n",
      "Copying other local files to hdfs:///user/root/tmp/mrjob/phrase_count_hadoop.root.20231122.205748.238784/files/\n",
      "Running step 1 of 2...\n",
      "  packageJobJar: [/tmp/hadoop-unjar4929046331985819469/] [] /tmp/streamjob961318180888993882.jar tmpDir=null\n",
      "  Connecting to ResourceManager at resourcemanager/172.19.0.2:8032\n",
      "  Connecting to ResourceManager at resourcemanager/172.19.0.2:8032\n",
      "  Disabling Erasure Coding for path: /tmp/hadoop-yarn/staging/root/.staging/job_1700654095792_0060\n",
      "  Total input files to process : 1\n",
      "  number of splits:2\n",
      "  Submitting tokens for job: job_1700654095792_0060\n",
      "  Executing with tokens: []\n",
      "  resource-types.xml not found\n",
      "  Unable to find 'resource-types.xml'.\n",
      "  Submitted application application_1700654095792_0060\n",
      "  The url to track the job: http://resourcemanager:8088/proxy/application_1700654095792_0060/\n",
      "  Running job: job_1700654095792_0060\n",
      "  Job job_1700654095792_0060 running in uber mode : false\n",
      "   map 0% reduce 0%\n",
      "   map 50% reduce 0%\n",
      "   map 100% reduce 0%\n",
      "   map 100% reduce 100%\n",
      "  Job job_1700654095792_0060 completed successfully\n",
      "  Output directory: hdfs:///user/root/tmp/mrjob/phrase_count_hadoop.root.20231122.205748.238784/step-output/0000\n",
      "Counters: 54\n",
      "\tFile Input Format Counters \n",
      "\t\tBytes Read=82374\n",
      "\tFile Output Format Counters \n",
      "\t\tBytes Written=855\n",
      "\tFile System Counters\n",
      "\t\tFILE: Number of bytes read=12603\n",
      "\t\tFILE: Number of bytes written=873893\n",
      "\t\tFILE: Number of large read operations=0\n",
      "\t\tFILE: Number of read operations=0\n",
      "\t\tFILE: Number of write operations=0\n",
      "\t\tHDFS: Number of bytes read=82562\n",
      "\t\tHDFS: Number of bytes read erasure-coded=0\n",
      "\t\tHDFS: Number of bytes written=855\n",
      "\t\tHDFS: Number of large read operations=0\n",
      "\t\tHDFS: Number of read operations=11\n",
      "\t\tHDFS: Number of write operations=2\n",
      "\tJob Counters \n",
      "\t\tLaunched map tasks=2\n",
      "\t\tLaunched reduce tasks=1\n",
      "\t\tRack-local map tasks=2\n",
      "\t\tTotal megabyte-milliseconds taken by all map tasks=2589696\n",
      "\t\tTotal megabyte-milliseconds taken by all reduce tasks=1220608\n",
      "\t\tTotal time spent by all map tasks (ms)=2529\n",
      "\t\tTotal time spent by all maps in occupied slots (ms)=5058\n",
      "\t\tTotal time spent by all reduce tasks (ms)=1192\n",
      "\t\tTotal time spent by all reduces in occupied slots (ms)=2384\n",
      "\t\tTotal vcore-milliseconds taken by all map tasks=2529\n",
      "\t\tTotal vcore-milliseconds taken by all reduce tasks=1192\n",
      "\tMap-Reduce Framework\n",
      "\t\tCPU time spent (ms)=1210\n",
      "\t\tCombine input records=0\n",
      "\t\tCombine output records=0\n",
      "\t\tFailed Shuffles=0\n",
      "\t\tGC time elapsed (ms)=134\n",
      "\t\tInput split bytes=188\n",
      "\t\tMap input records=1011\n",
      "\t\tMap output bytes=10579\n",
      "\t\tMap output materialized bytes=12609\n",
      "\t\tMap output records=1009\n",
      "\t\tMerged Map outputs=2\n",
      "\t\tPeak Map Physical memory (bytes)=300707840\n",
      "\t\tPeak Map Virtual memory (bytes)=2616016896\n",
      "\t\tPeak Reduce Physical memory (bytes)=328679424\n",
      "\t\tPeak Reduce Virtual memory (bytes)=2620739584\n",
      "\t\tPhysical memory (bytes) snapshot=920530944\n",
      "\t\tReduce input groups=60\n",
      "\t\tReduce input records=1009\n",
      "\t\tReduce output records=60\n",
      "\t\tReduce shuffle bytes=12609\n",
      "\t\tShuffled Maps =2\n",
      "\t\tSpilled Records=2018\n",
      "\t\tTotal committed heap usage (bytes)=1341128704\n",
      "\t\tVirtual memory (bytes) snapshot=7852347392\n",
      "\tShuffle Errors\n",
      "\t\tBAD_ID=0\n",
      "\t\tCONNECTION=0\n",
      "\t\tIO_ERROR=0\n",
      "\t\tWRONG_LENGTH=0\n",
      "\t\tWRONG_MAP=0\n",
      "\t\tWRONG_REDUCE=0\n",
      "Running step 2 of 2...\n",
      "  packageJobJar: [/tmp/hadoop-unjar8842247670928448135/] [] /tmp/streamjob7810471807443346686.jar tmpDir=null\n",
      "  Connecting to ResourceManager at resourcemanager/172.19.0.2:8032\n",
      "  Connecting to ResourceManager at resourcemanager/172.19.0.2:8032\n",
      "  Disabling Erasure Coding for path: /tmp/hadoop-yarn/staging/root/.staging/job_1700654095792_0061\n",
      "  Total input files to process : 1\n",
      "  number of splits:2\n",
      "  Submitting tokens for job: job_1700654095792_0061\n",
      "  Executing with tokens: []\n",
      "  resource-types.xml not found\n",
      "  Unable to find 'resource-types.xml'.\n",
      "  Submitted application application_1700654095792_0061\n",
      "  The url to track the job: http://resourcemanager:8088/proxy/application_1700654095792_0061/\n",
      "  Running job: job_1700654095792_0061\n",
      "  Job job_1700654095792_0061 running in uber mode : false\n",
      "   map 0% reduce 0%\n",
      "   map 50% reduce 0%\n",
      "   map 100% reduce 0%\n",
      "   map 100% reduce 100%\n",
      "  Job job_1700654095792_0061 completed successfully\n",
      "  Output directory: hdfs://namenode:8020/data/output/task1/SW_EpisodeIV_hadoop.txt\n",
      "Counters: 54\n",
      "\tFile Input Format Counters \n",
      "\t\tBytes Read=1283\n",
      "\tFile Output Format Counters \n",
      "\t\tBytes Written=253\n",
      "\tFile System Counters\n",
      "\t\tFILE: Number of bytes read=1461\n",
      "\t\tFILE: Number of bytes written=851642\n",
      "\t\tFILE: Number of large read operations=0\n",
      "\t\tFILE: Number of read operations=0\n",
      "\t\tFILE: Number of write operations=0\n",
      "\t\tHDFS: Number of bytes read=1609\n",
      "\t\tHDFS: Number of bytes read erasure-coded=0\n",
      "\t\tHDFS: Number of bytes written=253\n",
      "\t\tHDFS: Number of large read operations=0\n",
      "\t\tHDFS: Number of read operations=11\n",
      "\t\tHDFS: Number of write operations=2\n",
      "\tJob Counters \n",
      "\t\tLaunched map tasks=2\n",
      "\t\tLaunched reduce tasks=1\n",
      "\t\tRack-local map tasks=2\n",
      "\t\tTotal megabyte-milliseconds taken by all map tasks=2502656\n",
      "\t\tTotal megabyte-milliseconds taken by all reduce tasks=1275904\n",
      "\t\tTotal time spent by all map tasks (ms)=2444\n",
      "\t\tTotal time spent by all maps in occupied slots (ms)=4888\n",
      "\t\tTotal time spent by all reduce tasks (ms)=1246\n",
      "\t\tTotal time spent by all reduces in occupied slots (ms)=2492\n",
      "\t\tTotal vcore-milliseconds taken by all map tasks=2444\n",
      "\t\tTotal vcore-milliseconds taken by all reduce tasks=1246\n",
      "\tMap-Reduce Framework\n",
      "\t\tCPU time spent (ms)=1150\n",
      "\t\tCombine input records=0\n",
      "\t\tCombine output records=0\n",
      "\t\tFailed Shuffles=0\n",
      "\t\tGC time elapsed (ms)=136\n",
      "\t\tInput split bytes=326\n",
      "\t\tMap input records=60\n",
      "\t\tMap output bytes=1335\n",
      "\t\tMap output materialized bytes=1467\n",
      "\t\tMap output records=60\n",
      "\t\tMerged Map outputs=2\n",
      "\t\tPeak Map Physical memory (bytes)=298024960\n",
      "\t\tPeak Map Virtual memory (bytes)=2617561088\n",
      "\t\tPeak Reduce Physical memory (bytes)=322686976\n",
      "\t\tPeak Reduce Virtual memory (bytes)=2621206528\n",
      "\t\tPhysical memory (bytes) snapshot=911257600\n",
      "\t\tReduce input groups=1\n",
      "\t\tReduce input records=60\n",
      "\t\tReduce output records=20\n",
      "\t\tReduce shuffle bytes=1467\n",
      "\t\tShuffled Maps =2\n",
      "\t\tSpilled Records=120\n",
      "\t\tTotal committed heap usage (bytes)=1312817152\n",
      "\t\tVirtual memory (bytes) snapshot=7853572096\n",
      "\tShuffle Errors\n",
      "\t\tBAD_ID=0\n",
      "\t\tCONNECTION=0\n",
      "\t\tIO_ERROR=0\n",
      "\t\tWRONG_LENGTH=0\n",
      "\t\tWRONG_MAP=0\n",
      "\t\tWRONG_REDUCE=0\n",
      "job output is in hdfs://namenode:8020/data/output/task1/SW_EpisodeIV_hadoop.txt\n",
      "Removing HDFS temp directory hdfs:///user/root/tmp/mrjob/phrase_count_hadoop.root.20231122.205748.238784...\n",
      "Removing temp directory /tmp/phrase_count_hadoop.root.20231122.205748.238784...\n"
     ]
    }
   ],
   "source": [
    "!python3 phrase_count_hadoop.py -r hadoop hdfs://namenode:8020/data/SW_EpisodeIV.txt -o hdfs://namenode:8020/data/output/task1/SW_EpisodeIV_hadoop.txt"
   ]
  },
  {
   "cell_type": "code",
   "execution_count": 16,
   "id": "7896d0b5-bbfd-48e9-a8f8-cfda4099b1d2",
   "metadata": {},
   "outputs": [
    {
     "name": "stdout",
     "output_type": "stream",
     "text": [
      "Found 2 items\n",
      "-rw-r--r--   3 root supergroup          0 2023-11-22 23:58 /data/output/task1/SW_EpisodeIV_hadoop.txt/_SUCCESS\n",
      "-rw-r--r--   3 root supergroup        253 2023-11-22 23:58 /data/output/task1/SW_EpisodeIV_hadoop.txt/part-00000\n"
     ]
    }
   ],
   "source": [
    "!hadoop fs -ls /data/output/task1/SW_EpisodeIV_hadoop.txt"
   ]
  },
  {
   "cell_type": "code",
   "execution_count": 32,
   "id": "35bbc83f-9a0c-4911-94f0-f64bdf9fa154",
   "metadata": {},
   "outputs": [
    {
     "name": "stdout",
     "output_type": "stream",
     "text": [
      "254\t\"LUKE\"\n",
      "153\t\"HAN\"\n",
      "118\t\"THREEPIO\"\n",
      "82\t\"BEN\"\n",
      "57\t\"LEIA\"\n",
      "41\t\"VADER\"\n",
      "37\t\"RED LEADER\"\n",
      "34\t\"BIGGS\"\n",
      "28\t\"TARKIN\"\n",
      "25\t\"OWEN\"\n",
      "19\t\"TROOPER\"\n",
      "14\t\"WEDGE\"\n",
      "14\t\"GOLD LEADER\"\n",
      "11\t\"OFFICER\"\n",
      "8\t\"RED TEN\"\n",
      "7\t\"GOLD FIVE\"\n",
      "6\t\"JABBA\"\n",
      "6\t\"INTERCOM VOICE\"\n",
      "6\t\"GREEDO\"\n",
      "6\t\"FIRST TROOPER\"\n"
     ]
    }
   ],
   "source": [
    "!hadoop fs -cat /data/output/task1/SW_EpisodeIV_hadoop.txt/part-00000"
   ]
  },
  {
   "cell_type": "code",
   "execution_count": 31,
   "id": "41e4bdcc-25ad-4fe9-a69f-8a3d7328a52c",
   "metadata": {},
   "outputs": [
    {
     "name": "stdout",
     "output_type": "stream",
     "text": [
      "cat: `/data/output/task1/SW_EpisodeIV.txt/part-00000': No such file or directory\n"
     ]
    }
   ],
   "source": [
    "!hadoop fs -cat /data/output/task1/SW_EpisodeIV_hadoop.txt/part-00000 > ./SW_EpisodeIV_hadoop.txt"
   ]
  },
  {
   "cell_type": "code",
   "execution_count": 30,
   "id": "3e86e9bc-7aa7-4e00-a2a7-f09c793cae9c",
   "metadata": {
    "scrolled": true
   },
   "outputs": [
    {
     "data": {
      "image/png": "[encoded data removed]",
      "text/plain": [
       "<Figure size 2000x800 with 1 Axes>"
      ]
     },
     "metadata": {},
     "output_type": "display_data"
    }
   ],
   "source": [
    "print_output_of_file(\"./SW_EpisodeIV_hadoop.txt\")"
   ]
  },
  {
   "cell_type": "markdown",
   "id": "6d1fc23e-fbe0-44cc-b9bb-b36ff1bdc7e2",
   "metadata": {},
   "source": [
    "# Ep V"
   ]
  },
  {
   "cell_type": "code",
   "execution_count": 20,
   "id": "4761dbf4-6670-4d8d-92aa-937b33998f1a",
   "metadata": {},
   "outputs": [
    {
     "name": "stdout",
     "output_type": "stream",
     "text": [
      "No configs specified for inline runner\n"
     ]
    }
   ],
   "source": [
    "!python3 phrase_count_local.py ../SW_EpisodeV.txt > SW_EpisodeV_local.txt"
   ]
  },
  {
   "cell_type": "code",
   "execution_count": 21,
   "id": "607f0a5e-ff25-4fe7-b017-ad41973ad801",
   "metadata": {},
   "outputs": [
    {
     "data": {
      "image/png": "[encoded data removed]",
      "text/plain": [
       "<Figure size 2000x800 with 1 Axes>"
      ]
     },
     "metadata": {},
     "output_type": "display_data"
    }
   ],
   "source": [
    "print_output_of_file(\"./SW_EpisodeV_local.txt\")"
   ]
  },
  {
   "cell_type": "code",
   "execution_count": 22,
   "id": "fc5b8fc8-d84b-4c81-bbde-76e58601322b",
   "metadata": {
    "scrolled": true
   },
   "outputs": [
    {
     "name": "stdout",
     "output_type": "stream",
     "text": [
      "No configs found; falling back on auto-configuration\n",
      "No configs specified for hadoop runner\n",
      "Looking for hadoop binary in /opt/hadoop/bin...\n",
      "Found hadoop binary: /opt/hadoop/bin/hadoop\n",
      "Using Hadoop version 3.3.6\n",
      "Looking for Hadoop streaming jar in /opt/hadoop...\n",
      "Found Hadoop streaming jar: /opt/hadoop/share/hadoop/tools/lib/hadoop-streaming-3.3.6.jar\n",
      "Creating temp directory /tmp/phrase_count_hadoop.root.20231122.205831.834050\n",
      "uploading working dir files to hdfs:///user/root/tmp/mrjob/phrase_count_hadoop.root.20231122.205831.834050/files/wd...\n",
      "Copying other local files to hdfs:///user/root/tmp/mrjob/phrase_count_hadoop.root.20231122.205831.834050/files/\n",
      "Running step 1 of 2...\n",
      "  packageJobJar: [/tmp/hadoop-unjar3881082317649624464/] [] /tmp/streamjob6275331927724354206.jar tmpDir=null\n",
      "  Connecting to ResourceManager at resourcemanager/172.19.0.2:8032\n",
      "  Connecting to ResourceManager at resourcemanager/172.19.0.2:8032\n",
      "  Disabling Erasure Coding for path: /tmp/hadoop-yarn/staging/root/.staging/job_1700654095792_0062\n",
      "  Total input files to process : 1\n",
      "  number of splits:2\n",
      "  Submitting tokens for job: job_1700654095792_0062\n",
      "  Executing with tokens: []\n",
      "  resource-types.xml not found\n",
      "  Unable to find 'resource-types.xml'.\n",
      "  Submitted application application_1700654095792_0062\n",
      "  The url to track the job: http://resourcemanager:8088/proxy/application_1700654095792_0062/\n",
      "  Running job: job_1700654095792_0062\n",
      "  Job job_1700654095792_0062 running in uber mode : false\n",
      "   map 0% reduce 0%\n",
      "   map 50% reduce 0%\n",
      "   map 100% reduce 0%\n",
      "   map 100% reduce 100%\n",
      "  Job job_1700654095792_0062 completed successfully\n",
      "  Output directory: hdfs:///user/root/tmp/mrjob/phrase_count_hadoop.root.20231122.205831.834050/step-output/0000\n",
      "Counters: 54\n",
      "\tFile Input Format Counters \n",
      "\t\tBytes Read=59583\n",
      "\tFile Output Format Counters \n",
      "\t\tBytes Written=722\n",
      "\tFile System Counters\n",
      "\t\tFILE: Number of bytes read=10137\n",
      "\t\tFILE: Number of bytes written=868961\n",
      "\t\tFILE: Number of large read operations=0\n",
      "\t\tFILE: Number of read operations=0\n",
      "\t\tFILE: Number of write operations=0\n",
      "\t\tHDFS: Number of bytes read=59769\n",
      "\t\tHDFS: Number of bytes read erasure-coded=0\n",
      "\t\tHDFS: Number of bytes written=722\n",
      "\t\tHDFS: Number of large read operations=0\n",
      "\t\tHDFS: Number of read operations=11\n",
      "\t\tHDFS: Number of write operations=2\n",
      "\tJob Counters \n",
      "\t\tLaunched map tasks=2\n",
      "\t\tLaunched reduce tasks=1\n",
      "\t\tRack-local map tasks=2\n",
      "\t\tTotal megabyte-milliseconds taken by all map tasks=2745344\n",
      "\t\tTotal megabyte-milliseconds taken by all reduce tasks=1220608\n",
      "\t\tTotal time spent by all map tasks (ms)=2681\n",
      "\t\tTotal time spent by all maps in occupied slots (ms)=5362\n",
      "\t\tTotal time spent by all reduce tasks (ms)=1192\n",
      "\t\tTotal time spent by all reduces in occupied slots (ms)=2384\n",
      "\t\tTotal vcore-milliseconds taken by all map tasks=2681\n",
      "\t\tTotal vcore-milliseconds taken by all reduce tasks=1192\n",
      "\tMap-Reduce Framework\n",
      "\t\tCPU time spent (ms)=1100\n",
      "\t\tCombine input records=0\n",
      "\t\tCombine output records=0\n",
      "\t\tFailed Shuffles=0\n",
      "\t\tGC time elapsed (ms)=127\n",
      "\t\tInput split bytes=186\n",
      "\t\tMap input records=840\n",
      "\t\tMap output bytes=8455\n",
      "\t\tMap output materialized bytes=10143\n",
      "\t\tMap output records=838\n",
      "\t\tMerged Map outputs=2\n",
      "\t\tPeak Map Physical memory (bytes)=299106304\n",
      "\t\tPeak Map Virtual memory (bytes)=2615267328\n",
      "\t\tPeak Reduce Physical memory (bytes)=331595776\n",
      "\t\tPeak Reduce Virtual memory (bytes)=2623012864\n",
      "\t\tPhysical memory (bytes) snapshot=926060544\n",
      "\t\tReduce input groups=49\n",
      "\t\tReduce input records=838\n",
      "\t\tReduce output records=49\n",
      "\t\tReduce shuffle bytes=10143\n",
      "\t\tShuffled Maps =2\n",
      "\t\tSpilled Records=1676\n",
      "\t\tTotal committed heap usage (bytes)=1329070080\n",
      "\t\tVirtual memory (bytes) snapshot=7852945408\n",
      "\tShuffle Errors\n",
      "\t\tBAD_ID=0\n",
      "\t\tCONNECTION=0\n",
      "\t\tIO_ERROR=0\n",
      "\t\tWRONG_LENGTH=0\n",
      "\t\tWRONG_MAP=0\n",
      "\t\tWRONG_REDUCE=0\n",
      "Running step 2 of 2...\n",
      "  packageJobJar: [/tmp/hadoop-unjar7628410045798685976/] [] /tmp/streamjob2973296093484511548.jar tmpDir=null\n",
      "  Connecting to ResourceManager at resourcemanager/172.19.0.2:8032\n",
      "  Connecting to ResourceManager at resourcemanager/172.19.0.2:8032\n",
      "  Disabling Erasure Coding for path: /tmp/hadoop-yarn/staging/root/.staging/job_1700654095792_0063\n",
      "  Total input files to process : 1\n",
      "  number of splits:2\n",
      "  Submitting tokens for job: job_1700654095792_0063\n",
      "  Executing with tokens: []\n",
      "  resource-types.xml not found\n",
      "  Unable to find 'resource-types.xml'.\n",
      "  Submitted application application_1700654095792_0063\n",
      "  The url to track the job: http://resourcemanager:8088/proxy/application_1700654095792_0063/\n",
      "  Running job: job_1700654095792_0063\n",
      "  Job job_1700654095792_0063 running in uber mode : false\n",
      "   map 0% reduce 0%\n",
      "   map 50% reduce 0%\n",
      "   map 100% reduce 0%\n",
      "   map 100% reduce 100%\n",
      "  Job job_1700654095792_0063 completed successfully\n",
      "  Output directory: hdfs://namenode:8020/data/output/task1/SW_EpisodeV.txt\n",
      "Counters: 54\n",
      "\tFile Input Format Counters \n",
      "\t\tBytes Read=1083\n",
      "\tFile Output Format Counters \n",
      "\t\tBytes Written=222\n",
      "\tFile System Counters\n",
      "\t\tFILE: Number of bytes read=1218\n",
      "\t\tFILE: Number of bytes written=851132\n",
      "\t\tFILE: Number of large read operations=0\n",
      "\t\tFILE: Number of read operations=0\n",
      "\t\tFILE: Number of write operations=0\n",
      "\t\tHDFS: Number of bytes read=1409\n",
      "\t\tHDFS: Number of bytes read erasure-coded=0\n",
      "\t\tHDFS: Number of bytes written=222\n",
      "\t\tHDFS: Number of large read operations=0\n",
      "\t\tHDFS: Number of read operations=11\n",
      "\t\tHDFS: Number of write operations=2\n",
      "\tJob Counters \n",
      "\t\tLaunched map tasks=2\n",
      "\t\tLaunched reduce tasks=1\n",
      "\t\tRack-local map tasks=2\n",
      "\t\tTotal megabyte-milliseconds taken by all map tasks=2464768\n",
      "\t\tTotal megabyte-milliseconds taken by all reduce tasks=1262592\n",
      "\t\tTotal time spent by all map tasks (ms)=2407\n",
      "\t\tTotal time spent by all maps in occupied slots (ms)=4814\n",
      "\t\tTotal time spent by all reduce tasks (ms)=1233\n",
      "\t\tTotal time spent by all reduces in occupied slots (ms)=2466\n",
      "\t\tTotal vcore-milliseconds taken by all map tasks=2407\n",
      "\t\tTotal vcore-milliseconds taken by all reduce tasks=1233\n",
      "\tMap-Reduce Framework\n",
      "\t\tCPU time spent (ms)=1220\n",
      "\t\tCombine input records=0\n",
      "\t\tCombine output records=0\n",
      "\t\tFailed Shuffles=0\n",
      "\t\tGC time elapsed (ms)=131\n",
      "\t\tInput split bytes=326\n",
      "\t\tMap input records=49\n",
      "\t\tMap output bytes=1114\n",
      "\t\tMap output materialized bytes=1224\n",
      "\t\tMap output records=49\n",
      "\t\tMerged Map outputs=2\n",
      "\t\tPeak Map Physical memory (bytes)=296886272\n",
      "\t\tPeak Map Virtual memory (bytes)=2613604352\n",
      "\t\tPeak Reduce Physical memory (bytes)=288522240\n",
      "\t\tPeak Reduce Virtual memory (bytes)=2629185536\n",
      "\t\tPhysical memory (bytes) snapshot=879857664\n",
      "\t\tReduce input groups=1\n",
      "\t\tReduce input records=49\n",
      "\t\tReduce output records=20\n",
      "\t\tReduce shuffle bytes=1224\n",
      "\t\tShuffled Maps =2\n",
      "\t\tSpilled Records=98\n",
      "\t\tTotal committed heap usage (bytes)=1214775296\n",
      "\t\tVirtual memory (bytes) snapshot=7856222208\n",
      "\tShuffle Errors\n",
      "\t\tBAD_ID=0\n",
      "\t\tCONNECTION=0\n",
      "\t\tIO_ERROR=0\n",
      "\t\tWRONG_LENGTH=0\n",
      "\t\tWRONG_MAP=0\n",
      "\t\tWRONG_REDUCE=0\n",
      "job output is in hdfs://namenode:8020/data/output/task1/SW_EpisodeV.txt\n",
      "Removing HDFS temp directory hdfs:///user/root/tmp/mrjob/phrase_count_hadoop.root.20231122.205831.834050...\n",
      "Removing temp directory /tmp/phrase_count_hadoop.root.20231122.205831.834050...\n"
     ]
    }
   ],
   "source": [
    "!python3 phrase_count_hadoop.py -r hadoop hdfs://namenode:8020/data/SW_EpisodeV.txt -o hdfs://namenode:8020/data/output/task1/SW_EpisodeV.txt"
   ]
  },
  {
   "cell_type": "code",
   "execution_count": 23,
   "id": "809c1d19-9a55-40a2-9a14-adf2c0055a3c",
   "metadata": {},
   "outputs": [
    {
     "name": "stdout",
     "output_type": "stream",
     "text": [
      "Found 2 items\n",
      "-rw-r--r--   3 root supergroup          0 2023-11-22 23:59 /data/output/task1/SW_EpisodeV.txt/_SUCCESS\n",
      "-rw-r--r--   3 root supergroup        222 2023-11-22 23:59 /data/output/task1/SW_EpisodeV.txt/part-00000\n"
     ]
    }
   ],
   "source": [
    "!hadoop fs -ls /data/output/task1/SW_EpisodeV_hadoop.txt"
   ]
  },
  {
   "cell_type": "code",
   "execution_count": 24,
   "id": "c8a52b0a-7403-4ba1-b476-acfb6d73779c",
   "metadata": {},
   "outputs": [
    {
     "name": "stdout",
     "output_type": "stream",
     "text": [
      "181\t\"HAN\"\n",
      "128\t\"LUKE\"\n",
      "114\t\"LEIA\"\n",
      "92\t\"THREEPIO\"\n",
      "61\t\"LANDO\"\n",
      "56\t\"VADER\"\n",
      "36\t\"YODA\"\n",
      "23\t\"PIETT\"\n",
      "21\t\"CREATURE\"\n",
      "15\t\"BEN\"\n",
      "13\t\"RIEEKAN\"\n",
      "8\t\"WEDGE\"\n",
      "7\t\"VEERS\"\n",
      "7\t\"DECK OFFICER\"\n",
      "6\t\"ZEV\"\n",
      "5\t\"OZZEL\"\n",
      "5\t\"NEEDA\"\n",
      "5\t\"EMPEROR\"\n",
      "4\t\"JANSON\"\n",
      "4\t\"DACK\"\n"
     ]
    }
   ],
   "source": [
    "!hadoop fs -cat /data/output/task1/SW_EpisodeV_hadoop.txt/part-00000"
   ]
  },
  {
   "cell_type": "code",
   "execution_count": 25,
   "id": "230bd912-70b3-4ab4-bb5d-5d31609f8730",
   "metadata": {},
   "outputs": [],
   "source": [
    "!hadoop fs -cat /data/output/task1/SW_EpisodeV_hadoop.txt/part-00000 > ./SW_EpisodeV_hadoop.txt"
   ]
  },
  {
   "cell_type": "code",
   "execution_count": 29,
   "id": "0da9d1ac-02f3-486e-aad4-0cc8af0bc8cf",
   "metadata": {
    "scrolled": true
   },
   "outputs": [
    {
     "ename": "ValueError",
     "evalue": "invalid literal for int() with base 10: '181\\t\"HAN\"'",
     "output_type": "error",
     "traceback": [
      "\u001b[0;31m---------------------------------------------------------------------------\u001b[0m",
      "\u001b[0;31mValueError\u001b[0m                                Traceback (most recent call last)",
      "Cell \u001b[0;32mIn[29], line 1\u001b[0m\n\u001b[0;32m----> 1\u001b[0m \u001b[43mprint_output_of_file\u001b[49m\u001b[43m(\u001b[49m\u001b[38;5;124;43m\"\u001b[39;49m\u001b[38;5;124;43m./SW_EpisodeV_hadoop.txt\u001b[39;49m\u001b[38;5;124;43m\"\u001b[39;49m\u001b[43m)\u001b[49m\n",
      "Cell \u001b[0;32mIn[12], line 8\u001b[0m, in \u001b[0;36mprint_output_of_file\u001b[0;34m(filename)\u001b[0m\n\u001b[1;32m      6\u001b[0m         s \u001b[38;5;241m=\u001b[39m l\u001b[38;5;241m.\u001b[39mstrip(\u001b[38;5;124m\"\u001b[39m\u001b[38;5;124m(),\u001b[39m\u001b[38;5;130;01m\\n\u001b[39;00m\u001b[38;5;124m\"\u001b[39m)\n\u001b[1;32m      7\u001b[0m         s \u001b[38;5;241m=\u001b[39m s\u001b[38;5;241m.\u001b[39msplit(\u001b[38;5;124m\"\u001b[39m\u001b[38;5;124m, \u001b[39m\u001b[38;5;124m\"\u001b[39m)\n\u001b[0;32m----> 8\u001b[0m         values\u001b[38;5;241m.\u001b[39mappend(\u001b[38;5;28;43mint\u001b[39;49m\u001b[43m(\u001b[49m\u001b[43ms\u001b[49m\u001b[43m[\u001b[49m\u001b[38;5;241;43m0\u001b[39;49m\u001b[43m]\u001b[49m\u001b[43m)\u001b[49m)\n\u001b[1;32m      9\u001b[0m         keys\u001b[38;5;241m.\u001b[39mappend(s[\u001b[38;5;241m1\u001b[39m]\u001b[38;5;241m.\u001b[39mstrip(\u001b[38;5;124m\"\u001b[39m\u001b[38;5;124m'\u001b[39m\u001b[38;5;124m\"\u001b[39m))\n\u001b[1;32m     10\u001b[0m plt\u001b[38;5;241m.\u001b[39mrcParams[\u001b[38;5;124m\"\u001b[39m\u001b[38;5;124mfigure.figsize\u001b[39m\u001b[38;5;124m\"\u001b[39m] \u001b[38;5;241m=\u001b[39m (\u001b[38;5;241m20\u001b[39m, \u001b[38;5;241m8\u001b[39m)\n",
      "\u001b[0;31mValueError\u001b[0m: invalid literal for int() with base 10: '181\\t\"HAN\"'"
     ]
    }
   ],
   "source": [
    "print_output_of_file(\"./SW_EpisodeV_hadoop.txt\")"
   ]
  },
  {
   "cell_type": "markdown",
   "id": "f05ded6c-753c-4e02-852b-486c0123948d",
   "metadata": {},
   "source": [
    "# Ep VI"
   ]
  },
  {
   "cell_type": "code",
   "execution_count": null,
   "id": "6a4ec60d-f91c-499d-bf76-83db70e0e2ee",
   "metadata": {},
   "outputs": [],
   "source": [
    "!python3 phrase_count_local.py ../SW_EpisodeVI.txt > SW_EpisodeVI_local.txt"
   ]
  },
  {
   "cell_type": "code",
   "execution_count": null,
   "id": "4211f2f7-8e18-4d0a-beec-90bcdc9e6f9f",
   "metadata": {},
   "outputs": [],
   "source": [
    "print_output_of_file(\"./SW_EpisodeVI_local.txt\")"
   ]
  },
  {
   "cell_type": "code",
   "execution_count": null,
   "id": "3d3dd80b-886d-4748-aae6-a0f124d8b060",
   "metadata": {
    "scrolled": true
   },
   "outputs": [],
   "source": [
    "!python3 phrase_count_hadoop.py -r hadoop hdfs://namenode:8020/data/SW_EpisodeVI.txt -o hdfs://namenode:8020/data/output/task1/SW_EpisodeVI_hadoop.txt"
   ]
  },
  {
   "cell_type": "code",
   "execution_count": null,
   "id": "4b0a43c8-3e33-4b16-8949-39fd09a3f28f",
   "metadata": {},
   "outputs": [],
   "source": [
    "!hadoop fs -ls /data/output/task1/SW_EpisodeVI_hadoop.txt"
   ]
  },
  {
   "cell_type": "code",
   "execution_count": null,
   "id": "cc0b523b-c627-46cd-be74-1f3bf290b2b3",
   "metadata": {},
   "outputs": [],
   "source": [
    "!hadoop fs -cat /data/output/task1/SW_EpisodeVI_hadoop.txt/part-00000"
   ]
  },
  {
   "cell_type": "code",
   "execution_count": null,
   "id": "9bdf1031-d3de-4dcb-8dd3-1bcbeeb79e5c",
   "metadata": {},
   "outputs": [],
   "source": [
    "!hadoop fs -cat /data/output/task1/SW_EpisodeVI_hadoop.txt/part-00000 > ./SW_EpisodeVI_hadoop.txt"
   ]
  },
  {
   "cell_type": "code",
   "execution_count": null,
   "id": "093d0666-444d-40b0-8d7c-55d7b0f507ae",
   "metadata": {
    "scrolled": true
   },
   "outputs": [],
   "source": [
    "print_output_of_file(\"./SW_EpisodeVI_hadoop.txt\")"
   ]
  },
  {
   "cell_type": "markdown",
   "id": "8b5684fa-e9b1-4b84-bb6b-bb8905df549a",
   "metadata": {},
   "source": [
    "# All"
   ]
  },
  {
   "cell_type": "code",
   "execution_count": null,
   "id": "6ded9d9d-eec8-41af-a433-c93471433486",
   "metadata": {},
   "outputs": [],
   "source": [
    "!python3 phrase_count_local.py ../SW_EpisodeIV.txt ../SW_EpisodeV.txt ../SW_EpisodeVI.txt> All_local.txt"
   ]
  },
  {
   "cell_type": "code",
   "execution_count": null,
   "id": "b6d39f8c-af6e-4db4-82cf-5a339d9a4d6e",
   "metadata": {},
   "outputs": [],
   "source": [
    "print_output_of_file(\"./All_local.txt\")"
   ]
  },
  {
   "cell_type": "code",
   "execution_count": null,
   "id": "0e6cb042-c8f6-461f-8256-a49fa87b8547",
   "metadata": {
    "scrolled": true
   },
   "outputs": [],
   "source": [
    "!python3 phrase_count_hadoop.py -r hadoop hdfs://namenode:8020/data/SW_EpisodeIV.txt hdfs://namenode:8020/data/SW_EpisodeV.txt hdfs://namenode:8020/data/SW_EpisodeVI.txt -o hdfs://namenode:8020/data/output/task1/All.txt"
   ]
  },
  {
   "cell_type": "code",
   "execution_count": null,
   "id": "b5dfaf0a-6abb-41b7-9ded-ea9438e48efc",
   "metadata": {},
   "outputs": [],
   "source": [
    "!hadoop fs -ls /data/output/task1/All.txt"
   ]
  },
  {
   "cell_type": "code",
   "execution_count": null,
   "id": "93819213-6b38-4950-a7f2-6ed0df58e3b1",
   "metadata": {},
   "outputs": [],
   "source": [
    "!hadoop fs -cat /data/output/task1/All.txt/part-00000"
   ]
  },
  {
   "cell_type": "code",
   "execution_count": null,
   "id": "47f60fd6-6bf9-4d26-a335-eb8d42c8fd8b",
   "metadata": {},
   "outputs": [],
   "source": [
    "!hadoop fs -cat /data/output/task1/All.txt/part-00000 > ./All_hadoop.txt"
   ]
  },
  {
   "cell_type": "code",
   "execution_count": null,
   "id": "6d441e2d-60d5-4b95-8dab-f8261074607d",
   "metadata": {
    "scrolled": true
   },
   "outputs": [],
   "source": [
    "print_output_of_file(\"./All_hadoop.txt\")"
   ]
  },
  {
   "cell_type": "code",
   "execution_count": null,
   "id": "a1cf6a75-d180-4f59-8cbb-33f8295564bc",
   "metadata": {},
   "outputs": [],
   "source": []
  }
 ],
 "metadata": {
  "kernelspec": {
   "display_name": "Python 3 (ipykernel)",
   "language": "python",
   "name": "python3"
  },
  "language_info": {
   "codemirror_mode": {
    "name": "ipython",
    "version": 3
   },
   "file_extension": ".py",
   "mimetype": "text/x-python",
   "name": "python",
   "nbconvert_exporter": "python",
   "pygments_lexer": "ipython3",
   "version": "3.10.12"
  }
 },
 "nbformat": 4,
 "nbformat_minor": 5
}

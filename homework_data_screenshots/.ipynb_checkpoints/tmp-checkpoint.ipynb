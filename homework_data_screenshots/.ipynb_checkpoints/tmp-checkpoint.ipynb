{
 "cells": [
  {
   "cell_type": "code",
   "execution_count": null,
   "metadata": {},
   "outputs": [],
   "source": [
    "%%file top_bigram_hadoop.py\n",
    "from mrjob.job import MRJob\n",
    "from mrjob.step import MRStep\n",
    "from nltk import word_tokenize\n",
    "from nltk.corpus import stopwords\n",
    "import re\n",
    "\n",
    "# Uncomment if not installed. If install comment, because nltk.download is bugged\n",
    "# nltk.download('stopwords')\n",
    "# nltk.download('punkt')\n",
    "\n",
    "\n",
    "class Top_bigram(MRJob):\n",
    "    stop_words = set(stopwords.words(\"english\"))\n",
    "   def mapper_1(self, _, line):\n",
    "        icp = [x for x in line.split('\"') if x != \"\" and x != \" \"]\n",
    "        if len(icp) == 3:\n",
    "            phrase = icp[2]\n",
    "            stop_words = self.stop_words\n",
    "            cleaned_line = re.sub(r\"[^\\w\\s]\", \"\", phrase.lower())\n",
    "            print(cleaned_line)\n",
    "            words = [\n",
    "                word\n",
    "                for word in word_tokenize(cleaned_line)\n",
    "                if word not in stop_words\n",
    "            ]\n",
    "            bigrams = [\n",
    "                f\"{words[i]} {words[i+1]}\" for i in range(len(words) - 1)\n",
    "            ]\n",
    "            for bigram in bigrams:\n",
    "                yield bigram, 1\n",
    "\n",
    "    def reducer_1(self, bigram, counts):\n",
    "        yield None, (bigram, sum(counts))\n",
    "\n",
    "    def reducer_2(self, _, bigram_counts):\n",
    "        sorted_bigrams = sorted(\n",
    "            bigram_counts, key=lambda x: x[1], reverse=True\n",
    "        )[:20]\n",
    "        for bigram, count in sorted_bigrams:\n",
    "            yield bigram, count\n",
    "\n",
    "    def steps(self):\n",
    "        return [\n",
    "            MRStep(mapper=self.mapper_1, reducer=self.reducer_1),\n",
    "            MRStep(reducer=self.reducer_2),\n",
    "        ]\n",
    "\n",
    "if __name__ == \"__main__\":\n",
    "    Top_bigram().run()"
   ]
  }
 ],
 "metadata": {
  "language_info": {
   "name": "python"
  }
 },
 "nbformat": 4,
 "nbformat_minor": 2
}
